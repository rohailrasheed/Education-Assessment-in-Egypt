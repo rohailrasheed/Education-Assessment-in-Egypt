{
  "cells": [
    {
      "cell_type": "markdown",
      "metadata": {
        "id": "00E4AzPIR3h7"
      },
      "source": [
        "# **Education Assessment in Egypt**\n",
        "Egypt's education system has undergone significant reforms in recent years, with a focus on improving quality and accessibility. Education assessment plays a crucial role in this transformation, aiming to evaluate student learning outcomes and enhance the overall educational experience.\n",
        "\n",
        " Now, we are performing analysis by using the education dataset for Egypt.\n",
        " Dataset URL: https://www.kaggle.com/datasets/mohamedalabasy/education-in-egypt"
      ]
    },
    {
      "cell_type": "markdown",
      "metadata": {
        "id": "mTihEhDZSf7D"
      },
      "source": [
        "**Setting Up Google Colab Basic Libraries**"
      ]
    },
    {
      "cell_type": "code",
      "execution_count": 155,
      "metadata": {
        "id": "Bok5P2dUEX9R"
      },
      "outputs": [],
      "source": [
        "import shutil\n",
        "import os"
      ]
    },
    {
      "cell_type": "markdown",
      "metadata": {
        "id": "KTNoatZjTaU9"
      },
      "source": [
        "# **Extract, Transform, Load (ETL)**\n",
        "\n",
        "# **EXTRACT**\n",
        "\n",
        "Extracting the dataset directly from the Kaggle API for further processing."
      ]
    },
    {
      "cell_type": "code",
      "execution_count": 156,
      "metadata": {
        "colab": {
          "base_uri": "https://localhost:8080/",
          "height": 90
        },
        "id": "aYgynluqDuXs",
        "outputId": "84a86deb-4b96-4c6e-9d9f-9dd17ed93c92"
      },
      "outputs": [
        {
          "output_type": "display_data",
          "data": {
            "text/plain": [
              "<IPython.core.display.HTML object>"
            ],
            "text/html": [
              "\n",
              "     <input type=\"file\" id=\"files-f4dea5e2-8287-4608-a016-6976caf4d4c5\" name=\"files[]\" multiple disabled\n",
              "        style=\"border:none\" />\n",
              "     <output id=\"result-f4dea5e2-8287-4608-a016-6976caf4d4c5\">\n",
              "      Upload widget is only available when the cell has been executed in the\n",
              "      current browser session. Please rerun this cell to enable.\n",
              "      </output>\n",
              "      <script>// Copyright 2017 Google LLC\n",
              "//\n",
              "// Licensed under the Apache License, Version 2.0 (the \"License\");\n",
              "// you may not use this file except in compliance with the License.\n",
              "// You may obtain a copy of the License at\n",
              "//\n",
              "//      http://www.apache.org/licenses/LICENSE-2.0\n",
              "//\n",
              "// Unless required by applicable law or agreed to in writing, software\n",
              "// distributed under the License is distributed on an \"AS IS\" BASIS,\n",
              "// WITHOUT WARRANTIES OR CONDITIONS OF ANY KIND, either express or implied.\n",
              "// See the License for the specific language governing permissions and\n",
              "// limitations under the License.\n",
              "\n",
              "/**\n",
              " * @fileoverview Helpers for google.colab Python module.\n",
              " */\n",
              "(function(scope) {\n",
              "function span(text, styleAttributes = {}) {\n",
              "  const element = document.createElement('span');\n",
              "  element.textContent = text;\n",
              "  for (const key of Object.keys(styleAttributes)) {\n",
              "    element.style[key] = styleAttributes[key];\n",
              "  }\n",
              "  return element;\n",
              "}\n",
              "\n",
              "// Max number of bytes which will be uploaded at a time.\n",
              "const MAX_PAYLOAD_SIZE = 100 * 1024;\n",
              "\n",
              "function _uploadFiles(inputId, outputId) {\n",
              "  const steps = uploadFilesStep(inputId, outputId);\n",
              "  const outputElement = document.getElementById(outputId);\n",
              "  // Cache steps on the outputElement to make it available for the next call\n",
              "  // to uploadFilesContinue from Python.\n",
              "  outputElement.steps = steps;\n",
              "\n",
              "  return _uploadFilesContinue(outputId);\n",
              "}\n",
              "\n",
              "// This is roughly an async generator (not supported in the browser yet),\n",
              "// where there are multiple asynchronous steps and the Python side is going\n",
              "// to poll for completion of each step.\n",
              "// This uses a Promise to block the python side on completion of each step,\n",
              "// then passes the result of the previous step as the input to the next step.\n",
              "function _uploadFilesContinue(outputId) {\n",
              "  const outputElement = document.getElementById(outputId);\n",
              "  const steps = outputElement.steps;\n",
              "\n",
              "  const next = steps.next(outputElement.lastPromiseValue);\n",
              "  return Promise.resolve(next.value.promise).then((value) => {\n",
              "    // Cache the last promise value to make it available to the next\n",
              "    // step of the generator.\n",
              "    outputElement.lastPromiseValue = value;\n",
              "    return next.value.response;\n",
              "  });\n",
              "}\n",
              "\n",
              "/**\n",
              " * Generator function which is called between each async step of the upload\n",
              " * process.\n",
              " * @param {string} inputId Element ID of the input file picker element.\n",
              " * @param {string} outputId Element ID of the output display.\n",
              " * @return {!Iterable<!Object>} Iterable of next steps.\n",
              " */\n",
              "function* uploadFilesStep(inputId, outputId) {\n",
              "  const inputElement = document.getElementById(inputId);\n",
              "  inputElement.disabled = false;\n",
              "\n",
              "  const outputElement = document.getElementById(outputId);\n",
              "  outputElement.innerHTML = '';\n",
              "\n",
              "  const pickedPromise = new Promise((resolve) => {\n",
              "    inputElement.addEventListener('change', (e) => {\n",
              "      resolve(e.target.files);\n",
              "    });\n",
              "  });\n",
              "\n",
              "  const cancel = document.createElement('button');\n",
              "  inputElement.parentElement.appendChild(cancel);\n",
              "  cancel.textContent = 'Cancel upload';\n",
              "  const cancelPromise = new Promise((resolve) => {\n",
              "    cancel.onclick = () => {\n",
              "      resolve(null);\n",
              "    };\n",
              "  });\n",
              "\n",
              "  // Wait for the user to pick the files.\n",
              "  const files = yield {\n",
              "    promise: Promise.race([pickedPromise, cancelPromise]),\n",
              "    response: {\n",
              "      action: 'starting',\n",
              "    }\n",
              "  };\n",
              "\n",
              "  cancel.remove();\n",
              "\n",
              "  // Disable the input element since further picks are not allowed.\n",
              "  inputElement.disabled = true;\n",
              "\n",
              "  if (!files) {\n",
              "    return {\n",
              "      response: {\n",
              "        action: 'complete',\n",
              "      }\n",
              "    };\n",
              "  }\n",
              "\n",
              "  for (const file of files) {\n",
              "    const li = document.createElement('li');\n",
              "    li.append(span(file.name, {fontWeight: 'bold'}));\n",
              "    li.append(span(\n",
              "        `(${file.type || 'n/a'}) - ${file.size} bytes, ` +\n",
              "        `last modified: ${\n",
              "            file.lastModifiedDate ? file.lastModifiedDate.toLocaleDateString() :\n",
              "                                    'n/a'} - `));\n",
              "    const percent = span('0% done');\n",
              "    li.appendChild(percent);\n",
              "\n",
              "    outputElement.appendChild(li);\n",
              "\n",
              "    const fileDataPromise = new Promise((resolve) => {\n",
              "      const reader = new FileReader();\n",
              "      reader.onload = (e) => {\n",
              "        resolve(e.target.result);\n",
              "      };\n",
              "      reader.readAsArrayBuffer(file);\n",
              "    });\n",
              "    // Wait for the data to be ready.\n",
              "    let fileData = yield {\n",
              "      promise: fileDataPromise,\n",
              "      response: {\n",
              "        action: 'continue',\n",
              "      }\n",
              "    };\n",
              "\n",
              "    // Use a chunked sending to avoid message size limits. See b/62115660.\n",
              "    let position = 0;\n",
              "    do {\n",
              "      const length = Math.min(fileData.byteLength - position, MAX_PAYLOAD_SIZE);\n",
              "      const chunk = new Uint8Array(fileData, position, length);\n",
              "      position += length;\n",
              "\n",
              "      const base64 = btoa(String.fromCharCode.apply(null, chunk));\n",
              "      yield {\n",
              "        response: {\n",
              "          action: 'append',\n",
              "          file: file.name,\n",
              "          data: base64,\n",
              "        },\n",
              "      };\n",
              "\n",
              "      let percentDone = fileData.byteLength === 0 ?\n",
              "          100 :\n",
              "          Math.round((position / fileData.byteLength) * 100);\n",
              "      percent.textContent = `${percentDone}% done`;\n",
              "\n",
              "    } while (position < fileData.byteLength);\n",
              "  }\n",
              "\n",
              "  // All done.\n",
              "  yield {\n",
              "    response: {\n",
              "      action: 'complete',\n",
              "    }\n",
              "  };\n",
              "}\n",
              "\n",
              "scope.google = scope.google || {};\n",
              "scope.google.colab = scope.google.colab || {};\n",
              "scope.google.colab._files = {\n",
              "  _uploadFiles,\n",
              "  _uploadFilesContinue,\n",
              "};\n",
              "})(self);\n",
              "</script> "
            ]
          },
          "metadata": {}
        },
        {
          "output_type": "stream",
          "name": "stdout",
          "text": [
            "Saving kaggle.json to kaggle.json\n"
          ]
        },
        {
          "output_type": "execute_result",
          "data": {
            "text/plain": [
              "{'kaggle.json': b'{\"username\":\"rohailrasheed\",\"key\":\"d755f485edd3fb92b8837db39584fd88\"}'}"
            ]
          },
          "metadata": {},
          "execution_count": 156
        }
      ],
      "source": [
        "from google.colab import files\n",
        "files.upload()  # use to upload kaggle.json"
      ]
    },
    {
      "cell_type": "code",
      "execution_count": 157,
      "metadata": {
        "id": "Fx9m7XoKES9p"
      },
      "outputs": [],
      "source": [
        "# Checking .kaggle directory if it doesn't exist\n",
        "if not os.path.exists('/root/.kaggle'):\n",
        "    os.makedirs('/root/.kaggle')\n",
        "\n",
        "# Moving the uploaded kaggle.json to the .kaggle directory\n",
        "shutil.move('kaggle.json', '/root/.kaggle/kaggle.json')\n",
        "\n",
        "# Setting permissions for the Kaggle API key\n",
        "os.chmod('/root/.kaggle/kaggle.json', 0o600)"
      ]
    },
    {
      "cell_type": "code",
      "execution_count": 158,
      "metadata": {
        "colab": {
          "base_uri": "https://localhost:8080/"
        },
        "id": "MEhaCcjpEipE",
        "outputId": "009694bb-7227-4586-aa71-94c8c9bcb498"
      },
      "outputs": [
        {
          "output_type": "stream",
          "name": "stdout",
          "text": [
            "Dataset URL: https://www.kaggle.com/datasets/mohamedalabasy/education-in-egypt\n",
            "License(s): apache-2.0\n",
            "education-in-egypt.zip: Skipping, found more recently modified local copy (use --force to force download)\n"
          ]
        }
      ],
      "source": [
        "# Downloading Dataset zip file directly from API\n",
        "!kaggle datasets download -d mohamedalabasy/education-in-egypt"
      ]
    },
    {
      "cell_type": "code",
      "execution_count": 159,
      "metadata": {
        "id": "h-HczAx6Ez2g",
        "colab": {
          "base_uri": "https://localhost:8080/"
        },
        "outputId": "248d7ea4-4406-45f9-d437-0b5609490330"
      },
      "outputs": [
        {
          "output_type": "stream",
          "name": "stdout",
          "text": [
            "Archive:  education-in-egypt.zip\n",
            "replace /content/dataset/egypt_education_dataset.csv? [y]es, [n]o, [A]ll, [N]one, [r]ename: y\n",
            "  inflating: /content/dataset/egypt_education_dataset.csv  \n"
          ]
        }
      ],
      "source": [
        "# Unzipping the dataset zip file in Colab File Environment\n",
        "!unzip education-in-egypt.zip -d /content/dataset"
      ]
    },
    {
      "cell_type": "markdown",
      "metadata": {
        "id": "bT-6PQtsUK7k"
      },
      "source": [
        "**Uploading the necessary libraries for manipulation and visualizations**"
      ]
    },
    {
      "cell_type": "code",
      "execution_count": 160,
      "metadata": {
        "id": "Ji1bqIIMFFyk"
      },
      "outputs": [],
      "source": [
        "import pandas as pd\n",
        "import numpy as np\n",
        "import matplotlib.pyplot as plt\n",
        "import seaborn as sns"
      ]
    },
    {
      "cell_type": "markdown",
      "metadata": {
        "id": "C2X8yeJCVUAL"
      },
      "source": [
        "# Viewing the Dataset from Different Aspects\n",
        "\n",
        "We finds that the dataset is categorical by viewing it"
      ]
    },
    {
      "cell_type": "code",
      "execution_count": 161,
      "metadata": {
        "id": "g1HlxZ__FH5x",
        "colab": {
          "base_uri": "https://localhost:8080/"
        },
        "outputId": "1c0a6731-4f12-4a58-93ba-40397eb63a8c"
      },
      "outputs": [
        {
          "output_type": "stream",
          "name": "stdout",
          "text": [
            "['egypt_education_dataset.csv'] \n",
            "\n",
            "       Student Name  Student Age Student year Father Degree Mother Degree  \\\n",
            "0      Allison Lang           18       Year 9   High School   High School   \n",
            "1     Jaclyn Mcneil           14       Year 9      Bachelor           PhD   \n",
            "2       Melissa Lee           16      Year 10           NaN           PhD   \n",
            "3   Timothy Maxwell           14      Year 10      Bachelor      Bachelor   \n",
            "4       Eric Steele           17      Year 11           PhD           NaN   \n",
            "5     Gabriel Brown           15      Year 11      Bachelor        Master   \n",
            "6  Carolyn Erickson           18      Year 10      Bachelor   High School   \n",
            "7       Anna Mooney           14      Year 12        Master           PhD   \n",
            "8      Aaron Mullen           15      Year 11           PhD           PhD   \n",
            "9     Carrie Harvey           17       Year 9           PhD           NaN   \n",
            "\n",
            "  Education Type   Subject_1   Subject_2  Subject_3  Subject_4  Subject_5  \\\n",
            "0             IB   72.236740   85.931149  65.698513  84.163844  78.179414   \n",
            "1             IB   91.603078   73.186427  64.240239  47.786542  83.138581   \n",
            "2             IB  100.000000   83.985923  89.378162  82.446853  86.368818   \n",
            "3       Thanweya   91.082131  100.000000  78.802220  78.447670  64.606239   \n",
            "4          IGCSE   74.906144   69.518146  65.284841  56.317028  69.758140   \n",
            "5             IB   72.529418   84.630127  88.036813  83.419565  95.994759   \n",
            "6          IGCSE   83.733170   53.490681  64.176832  74.788082  64.961130   \n",
            "7       Thanweya   61.324515   65.694727  56.516955  76.300636  78.025103   \n",
            "8       Thanweya   69.819967   36.828594  76.873535  49.365484  67.708957   \n",
            "9          IGCSE   52.064120   75.201754  80.705790  67.390144  78.045191   \n",
            "\n",
            "   Subject_6   Subject_7  Subject_8  Subject_9  Subject_10  \n",
            "0  50.578209   70.071681  80.294509  72.709741   59.080678  \n",
            "1  66.913702   42.587211  87.997009  89.176862   78.493158  \n",
            "2  90.347020  100.000000  83.972296  69.212961   79.206634  \n",
            "3  82.045421   69.869099  91.122870  95.207752   52.602706  \n",
            "4  85.810641   63.776955  61.802599  84.951132   68.146467  \n",
            "5  81.416093   78.758795  46.535227  77.553887   59.407396  \n",
            "6  69.594212   80.826295  72.337257  88.716768   93.395562  \n",
            "7  71.510545   64.870428  45.915520  42.069972   69.812132  \n",
            "8  61.409847   74.602374  75.597677  85.594564   80.016017  \n",
            "9  69.355050   82.103080  71.724884  70.873844   61.598956  \n"
          ]
        }
      ],
      "source": [
        "print(os.listdir('/content/dataset'),\"\\n\") # Printing the Dataset File Name\n",
        "\n",
        "file_path = '/content/dataset/egypt_education_dataset.csv' # Dataset File Path\n",
        "dataset = pd.read_csv(file_path) # Reading the Dataset\n",
        "print(dataset.head(10)) # Printing 10 Rows of each column in a dataset"
      ]
    },
    {
      "cell_type": "code",
      "execution_count": 162,
      "metadata": {
        "id": "CvWR7hB0ET2y",
        "colab": {
          "base_uri": "https://localhost:8080/"
        },
        "outputId": "27fcd564-be35-44e4-f5ce-f5d90d0ad555"
      },
      "outputs": [
        {
          "output_type": "stream",
          "name": "stdout",
          "text": [
            "<bound method NDFrame.describe of           Student Name  Student Age Student year Father Degree Mother Degree  \\\n",
            "0         Allison Lang           18       Year 9   High School   High School   \n",
            "1        Jaclyn Mcneil           14       Year 9      Bachelor           PhD   \n",
            "2          Melissa Lee           16      Year 10           NaN           PhD   \n",
            "3      Timothy Maxwell           14      Year 10      Bachelor      Bachelor   \n",
            "4          Eric Steele           17      Year 11           PhD           NaN   \n",
            "...                ...          ...          ...           ...           ...   \n",
            "49995     Bruce Vargas           15      Year 11           NaN        Master   \n",
            "49996   Clarence Foley           16      Year 11           NaN           PhD   \n",
            "49997      Dawn Palmer           14      Year 10           PhD           PhD   \n",
            "49998     Albert Berry           15      Year 10           PhD      Bachelor   \n",
            "49999      Amy Proctor           18      Year 12           PhD        Master   \n",
            "\n",
            "      Education Type   Subject_1   Subject_2  Subject_3   Subject_4  \\\n",
            "0                 IB   72.236740   85.931149  65.698513   84.163844   \n",
            "1                 IB   91.603078   73.186427  64.240239   47.786542   \n",
            "2                 IB  100.000000   83.985923  89.378162   82.446853   \n",
            "3           Thanweya   91.082131  100.000000  78.802220   78.447670   \n",
            "4              IGCSE   74.906144   69.518146  65.284841   56.317028   \n",
            "...              ...         ...         ...        ...         ...   \n",
            "49995             IB   84.760901   96.154122  71.428657   52.579123   \n",
            "49996          IGCSE   82.196281   84.939252  56.661299   88.210451   \n",
            "49997       Thanweya   90.035457   30.790153  64.771808   82.749067   \n",
            "49998       Thanweya   58.177784   81.879862  86.309918  100.000000   \n",
            "49999             IB   45.313913   92.998433  63.855792   70.016869   \n",
            "\n",
            "       Subject_5  Subject_6   Subject_7  Subject_8  Subject_9  Subject_10  \n",
            "0      78.179414  50.578209   70.071681  80.294509  72.709741   59.080678  \n",
            "1      83.138581  66.913702   42.587211  87.997009  89.176862   78.493158  \n",
            "2      86.368818  90.347020  100.000000  83.972296  69.212961   79.206634  \n",
            "3      64.606239  82.045421   69.869099  91.122870  95.207752   52.602706  \n",
            "4      69.758140  85.810641   63.776955  61.802599  84.951132   68.146467  \n",
            "...          ...        ...         ...        ...        ...         ...  \n",
            "49995  62.243286  63.188827   93.744022  72.375436  77.848848   66.807401  \n",
            "49996  84.573156  73.009089   68.842074  76.605868  76.255564   80.606913  \n",
            "49997  52.774571  65.665893   74.760145  74.148929  64.687866   86.811651  \n",
            "49998  77.616452  89.898231   62.805221  57.548277  70.028551   80.779414  \n",
            "49999  77.037784  77.340919   51.002621  40.701383  64.671870   76.130232  \n",
            "\n",
            "[50000 rows x 16 columns]>\n"
          ]
        }
      ],
      "source": [
        "print(dataset.describe) # Describing the Dataset"
      ]
    },
    {
      "cell_type": "code",
      "execution_count": 163,
      "metadata": {
        "id": "4bY2f34JFqT7",
        "colab": {
          "base_uri": "https://localhost:8080/"
        },
        "outputId": "76276761-d3d4-4109-bab2-cff42b9b9004"
      },
      "outputs": [
        {
          "output_type": "stream",
          "name": "stdout",
          "text": [
            "['Student Name', 'Student Age', 'Student year', 'Father Degree', 'Mother Degree', 'Education Type', 'Subject_1', 'Subject_2', 'Subject_3', 'Subject_4', 'Subject_5', 'Subject_6', 'Subject_7', 'Subject_8', 'Subject_9', 'Subject_10']\n"
          ]
        }
      ],
      "source": [
        "# Checking the column name in list\n",
        "print(dataset.columns.tolist())"
      ]
    },
    {
      "cell_type": "markdown",
      "metadata": {
        "id": "t67pA11Qboox"
      },
      "source": [
        "# **TRANSFORM**"
      ]
    },
    {
      "cell_type": "markdown",
      "metadata": {
        "id": "5ojFyhtN-qGI"
      },
      "source": [
        "# **Exploratory Data Analysis (EDA)**"
      ]
    },
    {
      "cell_type": "markdown",
      "metadata": {
        "id": "JfVgNvB7V84j"
      },
      "source": [
        "# Heatmap\n",
        "Creating the Heatmap to Check and Visualize the Null Values in the Dataset"
      ]
    },
    {
      "cell_type": "code",
      "execution_count": 164,
      "metadata": {
        "id": "mkJV1S4-F2mH",
        "colab": {
          "base_uri": "https://localhost:8080/",
          "height": 656
        },
        "outputId": "b61c9199-e986-4e27-a38a-9354d2f335e1"
      },
      "outputs": [
        {
          "output_type": "display_data",
          "data": {
            "text/plain": [
              "<Figure size 800x600 with 1 Axes>"
            ],
            "image/png": "[encoded data removed]"
          },
          "metadata": {}
        }
      ],
      "source": [
        "df = pd.DataFrame(dataset) # Creating a dataframe of Dataset\n",
        "missing_mask = df.isnull() # Creating a variable with null values\n",
        "\n",
        "plt.figure(figsize=(8, 6)) # Size for heatmap\n",
        "\n",
        "# Creating Heatmap\n",
        "sns.heatmap(missing_mask, cmap='viridis', cbar=False,\n",
        "            linewidths=0.5, linecolor='orange')\n",
        "\n",
        "plt.title('Heatmap of Missing Values in Egypt Education')\n",
        "plt.xlabel('Features')\n",
        "plt.ylabel('Observations')\n",
        "\n",
        "plt.show() # Visualizing the Heatmap"
      ]
    },
    {
      "cell_type": "markdown",
      "metadata": {
        "id": "tJK7iJWtWYvF"
      },
      "source": [
        "**Now, Checking the Missing Values / Null Values columnwise**"
      ]
    },
    {
      "cell_type": "code",
      "execution_count": 165,
      "metadata": {
        "id": "o_uQcKY0GCMA",
        "colab": {
          "base_uri": "https://localhost:8080/"
        },
        "outputId": "4924e25b-8118-4c4e-e271-e5282e56990a"
      },
      "outputs": [
        {
          "output_type": "stream",
          "name": "stdout",
          "text": [
            "       Student Name  Student Age  Student year  Father Degree  Mother Degree  \\\n",
            "0             False        False         False          False          False   \n",
            "1             False        False         False          False          False   \n",
            "2             False        False         False           True          False   \n",
            "3             False        False         False          False          False   \n",
            "4             False        False         False          False           True   \n",
            "...             ...          ...           ...            ...            ...   \n",
            "49995         False        False         False           True          False   \n",
            "49996         False        False         False           True          False   \n",
            "49997         False        False         False          False          False   \n",
            "49998         False        False         False          False          False   \n",
            "49999         False        False         False          False          False   \n",
            "\n",
            "       Education Type  Subject_1  Subject_2  Subject_3  Subject_4  Subject_5  \\\n",
            "0               False      False      False      False      False      False   \n",
            "1               False      False      False      False      False      False   \n",
            "2               False      False      False      False      False      False   \n",
            "3               False      False      False      False      False      False   \n",
            "4               False      False      False      False      False      False   \n",
            "...               ...        ...        ...        ...        ...        ...   \n",
            "49995           False      False      False      False      False      False   \n",
            "49996           False      False      False      False      False      False   \n",
            "49997           False      False      False      False      False      False   \n",
            "49998           False      False      False      False      False      False   \n",
            "49999           False      False      False      False      False      False   \n",
            "\n",
            "       Subject_6  Subject_7  Subject_8  Subject_9  Subject_10  \n",
            "0          False      False      False      False       False  \n",
            "1          False      False      False      False       False  \n",
            "2          False      False      False      False       False  \n",
            "3          False      False      False      False       False  \n",
            "4          False      False      False      False       False  \n",
            "...          ...        ...        ...        ...         ...  \n",
            "49995      False      False      False      False       False  \n",
            "49996      False      False      False      False       False  \n",
            "49997      False      False      False      False       False  \n",
            "49998      False      False      False      False       False  \n",
            "49999      False      False      False      False       False  \n",
            "\n",
            "[50000 rows x 16 columns]\n"
          ]
        }
      ],
      "source": [
        "print(missing_mask) # Checking Null Values"
      ]
    },
    {
      "cell_type": "markdown",
      "metadata": {
        "id": "RZ11DIneWz4M"
      },
      "source": [
        "**We can see that there are null values exist in some columns, so we need to remove these values.**"
      ]
    },
    {
      "cell_type": "code",
      "execution_count": 166,
      "metadata": {
        "id": "u8L5AoPzGLF-",
        "colab": {
          "base_uri": "https://localhost:8080/"
        },
        "outputId": "577f8200-1b1a-4e84-a811-ffc20ad73edb"
      },
      "outputs": [
        {
          "output_type": "stream",
          "name": "stdout",
          "text": [
            "Student Name          0\n",
            "Student Age           0\n",
            "Student year          0\n",
            "Father Degree     10040\n",
            "Mother Degree     10090\n",
            "Education Type        0\n",
            "Subject_1             0\n",
            "Subject_2             0\n",
            "Subject_3             0\n",
            "Subject_4             0\n",
            "Subject_5             0\n",
            "Subject_6             0\n",
            "Subject_7             0\n",
            "Subject_8             0\n",
            "Subject_9             0\n",
            "Subject_10            0\n",
            "dtype: int64\n"
          ]
        }
      ],
      "source": [
        "print(df.isnull().sum()) # Summing null values"
      ]
    },
    {
      "cell_type": "markdown",
      "metadata": {
        "id": "H9O7N9DhXCiI"
      },
      "source": [
        "# Mode Imputation Technique\n",
        "\n",
        "For filling out the Null Values in Categorical Data, we are using Mode Imputation Technique in particular columns because this techique behaves well in Categorical Datasets"
      ]
    },
    {
      "cell_type": "code",
      "execution_count": 167,
      "metadata": {
        "id": "uytDkOb1FFIb"
      },
      "outputs": [],
      "source": [
        "# Mode Imputation\n",
        "df['Father Degree'].fillna(df['Father Degree'].mode()[0], inplace=True)\n",
        "df['Mother Degree'].fillna(df['Mother Degree'].mode()[0], inplace=True)"
      ]
    },
    {
      "cell_type": "markdown",
      "metadata": {
        "id": "LyhjlZuwX8ts"
      },
      "source": [
        "After applying Mode Imputation technique, now we can see that the null values have been filled."
      ]
    },
    {
      "cell_type": "code",
      "execution_count": 168,
      "metadata": {
        "id": "qxjdCoDfGm2d",
        "colab": {
          "base_uri": "https://localhost:8080/"
        },
        "outputId": "7f5877e6-1ec9-4b4d-b4de-f517abe5f965"
      },
      "outputs": [
        {
          "output_type": "stream",
          "name": "stdout",
          "text": [
            "Student Name      0\n",
            "Student Age       0\n",
            "Student year      0\n",
            "Father Degree     0\n",
            "Mother Degree     0\n",
            "Education Type    0\n",
            "Subject_1         0\n",
            "Subject_2         0\n",
            "Subject_3         0\n",
            "Subject_4         0\n",
            "Subject_5         0\n",
            "Subject_6         0\n",
            "Subject_7         0\n",
            "Subject_8         0\n",
            "Subject_9         0\n",
            "Subject_10        0\n",
            "dtype: int64\n"
          ]
        }
      ],
      "source": [
        "print(df.isnull().sum()) # Again sum Null values"
      ]
    },
    {
      "cell_type": "code",
      "execution_count": 169,
      "metadata": {
        "id": "aXNQNx2eGwQB",
        "colab": {
          "base_uri": "https://localhost:8080/"
        },
        "outputId": "55b63623-4834-4a2d-c43c-beb890635205"
      },
      "outputs": [
        {
          "output_type": "stream",
          "name": "stdout",
          "text": [
            "<bound method NDFrame.describe of           Student Name  Student Age Student year Father Degree Mother Degree  \\\n",
            "0         Allison Lang           18       Year 9   High School   High School   \n",
            "1        Jaclyn Mcneil           14       Year 9      Bachelor           PhD   \n",
            "2          Melissa Lee           16      Year 10      Bachelor           PhD   \n",
            "3      Timothy Maxwell           14      Year 10      Bachelor      Bachelor   \n",
            "4          Eric Steele           17      Year 11           PhD      Bachelor   \n",
            "...                ...          ...          ...           ...           ...   \n",
            "49995     Bruce Vargas           15      Year 11      Bachelor        Master   \n",
            "49996   Clarence Foley           16      Year 11      Bachelor           PhD   \n",
            "49997      Dawn Palmer           14      Year 10           PhD           PhD   \n",
            "49998     Albert Berry           15      Year 10           PhD      Bachelor   \n",
            "49999      Amy Proctor           18      Year 12           PhD        Master   \n",
            "\n",
            "      Education Type   Subject_1   Subject_2  Subject_3   Subject_4  \\\n",
            "0                 IB   72.236740   85.931149  65.698513   84.163844   \n",
            "1                 IB   91.603078   73.186427  64.240239   47.786542   \n",
            "2                 IB  100.000000   83.985923  89.378162   82.446853   \n",
            "3           Thanweya   91.082131  100.000000  78.802220   78.447670   \n",
            "4              IGCSE   74.906144   69.518146  65.284841   56.317028   \n",
            "...              ...         ...         ...        ...         ...   \n",
            "49995             IB   84.760901   96.154122  71.428657   52.579123   \n",
            "49996          IGCSE   82.196281   84.939252  56.661299   88.210451   \n",
            "49997       Thanweya   90.035457   30.790153  64.771808   82.749067   \n",
            "49998       Thanweya   58.177784   81.879862  86.309918  100.000000   \n",
            "49999             IB   45.313913   92.998433  63.855792   70.016869   \n",
            "\n",
            "       Subject_5  Subject_6   Subject_7  Subject_8  Subject_9  Subject_10  \n",
            "0      78.179414  50.578209   70.071681  80.294509  72.709741   59.080678  \n",
            "1      83.138581  66.913702   42.587211  87.997009  89.176862   78.493158  \n",
            "2      86.368818  90.347020  100.000000  83.972296  69.212961   79.206634  \n",
            "3      64.606239  82.045421   69.869099  91.122870  95.207752   52.602706  \n",
            "4      69.758140  85.810641   63.776955  61.802599  84.951132   68.146467  \n",
            "...          ...        ...         ...        ...        ...         ...  \n",
            "49995  62.243286  63.188827   93.744022  72.375436  77.848848   66.807401  \n",
            "49996  84.573156  73.009089   68.842074  76.605868  76.255564   80.606913  \n",
            "49997  52.774571  65.665893   74.760145  74.148929  64.687866   86.811651  \n",
            "49998  77.616452  89.898231   62.805221  57.548277  70.028551   80.779414  \n",
            "49999  77.037784  77.340919   51.002621  40.701383  64.671870   76.130232  \n",
            "\n",
            "[50000 rows x 16 columns]>\n"
          ]
        }
      ],
      "source": [
        "print(df.describe) # Again describe dataset to see updated values"
      ]
    },
    {
      "cell_type": "markdown",
      "metadata": {
        "id": "ge1dH448YgOl"
      },
      "source": [
        "**Now, it is time to check which columns consists of Non-Numeric data**"
      ]
    },
    {
      "cell_type": "code",
      "execution_count": 170,
      "metadata": {
        "id": "xkbazA1GG7uz",
        "colab": {
          "base_uri": "https://localhost:8080/"
        },
        "outputId": "36d76dd0-8a01-43ef-da68-0db216394277"
      },
      "outputs": [
        {
          "output_type": "stream",
          "name": "stdout",
          "text": [
            "Non-numeric columns: ['Student Name', 'Student year', 'Father Degree', 'Mother Degree', 'Education Type']\n"
          ]
        }
      ],
      "source": [
        "# select non-numeric columns and convert it into list to understand better\n",
        "non_numeric_columns = df.select_dtypes(exclude=['number']).columns.tolist()\n",
        "print(\"Non-numeric columns:\", non_numeric_columns) # print list"
      ]
    },
    {
      "cell_type": "markdown",
      "metadata": {
        "id": "P-3bPkFBZMXb"
      },
      "source": [
        "**We have to encode nun numeric values to check their relationships in Correlation Matrix and for model acceptance.**"
      ]
    },
    {
      "cell_type": "code",
      "execution_count": 171,
      "metadata": {
        "id": "rOwev137KG_E"
      },
      "outputs": [],
      "source": [
        "# import necessary libraries for encoding\n",
        "from sklearn.preprocessing import LabelEncoder"
      ]
    },
    {
      "cell_type": "code",
      "execution_count": 172,
      "metadata": {
        "id": "u8psZo2kKLSz",
        "colab": {
          "base_uri": "https://localhost:8080/"
        },
        "outputId": "ab38104b-8663-4f7c-a7a9-28813c0c34d4"
      },
      "outputs": [
        {
          "output_type": "stream",
          "name": "stdout",
          "text": [
            "<class 'pandas.core.frame.DataFrame'>\n",
            "RangeIndex: 50000 entries, 0 to 49999\n",
            "Data columns (total 16 columns):\n",
            " #   Column          Non-Null Count  Dtype  \n",
            "---  ------          --------------  -----  \n",
            " 0   Student Name    50000 non-null  int64  \n",
            " 1   Student Age     50000 non-null  int64  \n",
            " 2   Student year    50000 non-null  int64  \n",
            " 3   Father Degree   50000 non-null  int64  \n",
            " 4   Mother Degree   50000 non-null  int64  \n",
            " 5   Education Type  50000 non-null  int64  \n",
            " 6   Subject_1       50000 non-null  float64\n",
            " 7   Subject_2       50000 non-null  float64\n",
            " 8   Subject_3       50000 non-null  float64\n",
            " 9   Subject_4       50000 non-null  float64\n",
            " 10  Subject_5       50000 non-null  float64\n",
            " 11  Subject_6       50000 non-null  float64\n",
            " 12  Subject_7       50000 non-null  float64\n",
            " 13  Subject_8       50000 non-null  float64\n",
            " 14  Subject_9       50000 non-null  float64\n",
            " 15  Subject_10      50000 non-null  float64\n",
            "dtypes: float64(10), int64(6)\n",
            "memory usage: 6.1 MB\n",
            "None\n"
          ]
        }
      ],
      "source": [
        "for column in non_numeric_columns:\n",
        "  # seperate label encoder for diff columns\n",
        "    le = LabelEncoder()\n",
        "    df[column] = le.fit_transform(df[column])\n",
        "\n",
        "# after converting into numeric, check their datatype\n",
        "print(df.info())"
      ]
    },
    {
      "cell_type": "markdown",
      "metadata": {
        "id": "s_VPX1hTav9I"
      },
      "source": [
        "**After that, we need to remove unnecessary non-numeric data column to make dataset more clean**\n"
      ]
    },
    {
      "cell_type": "code",
      "execution_count": 173,
      "metadata": {
        "id": "hbIJhRfkL88D",
        "colab": {
          "base_uri": "https://localhost:8080/"
        },
        "outputId": "7073beb5-fe58-4622-ba5d-c59b49eaff19"
      },
      "outputs": [
        {
          "output_type": "stream",
          "name": "stdout",
          "text": [
            "   Student Age  Student year  Father Degree  Mother Degree  Education Type  \\\n",
            "0           18             3              1              1               0   \n",
            "1           14             3              0              3               0   \n",
            "2           16             0              0              3               0   \n",
            "3           14             0              0              0               2   \n",
            "4           17             1              3              0               1   \n",
            "5           15             1              0              2               0   \n",
            "6           18             0              0              1               1   \n",
            "7           14             2              2              3               2   \n",
            "8           15             1              3              3               2   \n",
            "9           17             3              3              0               1   \n",
            "\n",
            "    Subject_1   Subject_2  Subject_3  Subject_4  Subject_5  Subject_6  \\\n",
            "0   72.236740   85.931149  65.698513  84.163844  78.179414  50.578209   \n",
            "1   91.603078   73.186427  64.240239  47.786542  83.138581  66.913702   \n",
            "2  100.000000   83.985923  89.378162  82.446853  86.368818  90.347020   \n",
            "3   91.082131  100.000000  78.802220  78.447670  64.606239  82.045421   \n",
            "4   74.906144   69.518146  65.284841  56.317028  69.758140  85.810641   \n",
            "5   72.529418   84.630127  88.036813  83.419565  95.994759  81.416093   \n",
            "6   83.733170   53.490681  64.176832  74.788082  64.961130  69.594212   \n",
            "7   61.324515   65.694727  56.516955  76.300636  78.025103  71.510545   \n",
            "8   69.819967   36.828594  76.873535  49.365484  67.708957  61.409847   \n",
            "9   52.064120   75.201754  80.705790  67.390144  78.045191  69.355050   \n",
            "\n",
            "    Subject_7  Subject_8  Subject_9  Subject_10  \n",
            "0   70.071681  80.294509  72.709741   59.080678  \n",
            "1   42.587211  87.997009  89.176862   78.493158  \n",
            "2  100.000000  83.972296  69.212961   79.206634  \n",
            "3   69.869099  91.122870  95.207752   52.602706  \n",
            "4   63.776955  61.802599  84.951132   68.146467  \n",
            "5   78.758795  46.535227  77.553887   59.407396  \n",
            "6   80.826295  72.337257  88.716768   93.395562  \n",
            "7   64.870428  45.915520  42.069972   69.812132  \n",
            "8   74.602374  75.597677  85.594564   80.016017  \n",
            "9   82.103080  71.724884  70.873844   61.598956  \n"
          ]
        }
      ],
      "source": [
        "# removing non numeric dataset and saves updated dataset into new variable\n",
        "temporary_df = df.drop(['Student Name'], axis=1)\n",
        "print(temporary_df.head(10))"
      ]
    },
    {
      "cell_type": "markdown",
      "metadata": {
        "id": "ZEd9H4Lsb0t2"
      },
      "source": [
        "**After removing the non-numeric data, again check the data type of remaining dataset**"
      ]
    },
    {
      "cell_type": "code",
      "execution_count": 174,
      "metadata": {
        "id": "R-SGsHqfM1no",
        "colab": {
          "base_uri": "https://localhost:8080/"
        },
        "outputId": "a7a7d0c5-b599-4abb-9287-4599cb31ad36"
      },
      "outputs": [
        {
          "output_type": "stream",
          "name": "stdout",
          "text": [
            "<class 'pandas.core.frame.DataFrame'>\n",
            "RangeIndex: 50000 entries, 0 to 49999\n",
            "Data columns (total 15 columns):\n",
            " #   Column          Non-Null Count  Dtype  \n",
            "---  ------          --------------  -----  \n",
            " 0   Student Age     50000 non-null  int64  \n",
            " 1   Student year    50000 non-null  int64  \n",
            " 2   Father Degree   50000 non-null  int64  \n",
            " 3   Mother Degree   50000 non-null  int64  \n",
            " 4   Education Type  50000 non-null  int64  \n",
            " 5   Subject_1       50000 non-null  float64\n",
            " 6   Subject_2       50000 non-null  float64\n",
            " 7   Subject_3       50000 non-null  float64\n",
            " 8   Subject_4       50000 non-null  float64\n",
            " 9   Subject_5       50000 non-null  float64\n",
            " 10  Subject_6       50000 non-null  float64\n",
            " 11  Subject_7       50000 non-null  float64\n",
            " 12  Subject_8       50000 non-null  float64\n",
            " 13  Subject_9       50000 non-null  float64\n",
            " 14  Subject_10      50000 non-null  float64\n",
            "dtypes: float64(10), int64(5)\n",
            "memory usage: 5.7 MB\n"
          ]
        }
      ],
      "source": [
        "temporary_df.info()"
      ]
    },
    {
      "cell_type": "markdown",
      "metadata": {
        "id": "Pz9xATKHcNyP"
      },
      "source": [
        "**Checking the relation between variables in a dataset. So, It shows that there is no such relation between dataset variables.**"
      ]
    },
    {
      "cell_type": "code",
      "execution_count": 175,
      "metadata": {
        "id": "JLelZm1GNIhn",
        "colab": {
          "base_uri": "https://localhost:8080/",
          "height": 636
        },
        "outputId": "1ac20d7d-255c-4007-e97f-a237b5f401b8"
      },
      "outputs": [
        {
          "output_type": "display_data",
          "data": {
            "text/plain": [
              "<Figure size 1000x600 with 2 Axes>"
            ],
            "image/png": "[encoded data removed]"
          },
          "metadata": {}
        }
      ],
      "source": [
        "corr = temporary_df.corr()\n",
        "\n",
        "# size for the correlation matrix\n",
        "plt.figure(figsize=(10, 6))\n",
        "sns.heatmap(corr, cmap='coolwarm', annot=True,\n",
        "            fmt='.2f', linewidths=0.5)\n",
        "\n",
        "#print correlation matrix\n",
        "plt.title('Correlation Heatmap for Egypt Education')\n",
        "plt.show()"
      ]
    },
    {
      "cell_type": "markdown",
      "metadata": {
        "id": "S21dgzP_ctj1"
      },
      "source": [
        "# Checking Noises and Abnormalities in Data"
      ]
    },
    {
      "cell_type": "markdown",
      "metadata": {
        "id": "Jrh9YUyEc53a"
      },
      "source": [
        "**Determine Quartiles in dataset and verify**\n",
        "We find some noises in dataset"
      ]
    },
    {
      "cell_type": "code",
      "execution_count": 176,
      "metadata": {
        "id": "gHspvMnURauJ",
        "colab": {
          "base_uri": "https://localhost:8080/"
        },
        "outputId": "585f7faa-4028-4c5e-8a93-f42928077f39"
      },
      "outputs": [
        {
          "output_type": "stream",
          "name": "stdout",
          "text": [
            "Lower Threshold (1st Percentile)\n",
            ": Student Age       14.000000\n",
            "Student year       0.000000\n",
            "Father Degree      0.000000\n",
            "Mother Degree      0.000000\n",
            "Education Type     0.000000\n",
            "Subject_1         40.364149\n",
            "Subject_2         40.235761\n",
            "Subject_3         40.379497\n",
            "Subject_4         40.145013\n",
            "Subject_5         40.382555\n",
            "Subject_6         39.800932\n",
            "Subject_7         39.924881\n",
            "Subject_8         39.902079\n",
            "Subject_9         39.916018\n",
            "Subject_10        40.218021\n",
            "Name: 0.01, dtype: float64\n",
            "Upper Threshold (99th Percentile)\n",
            ": Student Age        18.0\n",
            "Student year        3.0\n",
            "Father Degree       3.0\n",
            "Mother Degree       3.0\n",
            "Education Type      2.0\n",
            "Subject_1         100.0\n",
            "Subject_2         100.0\n",
            "Subject_3         100.0\n",
            "Subject_4         100.0\n",
            "Subject_5         100.0\n",
            "Subject_6         100.0\n",
            "Subject_7         100.0\n",
            "Subject_8         100.0\n",
            "Subject_9         100.0\n",
            "Subject_10        100.0\n",
            "Name: 0.99, dtype: float64\n",
            "\n",
            "\n",
            " Outliers:        Student Age  Student year  Father Degree  Mother Degree  \\\n",
            "0              NaN           NaN            NaN            NaN   \n",
            "1              NaN           NaN            NaN            NaN   \n",
            "2              NaN           NaN            NaN            NaN   \n",
            "3              NaN           NaN            NaN            NaN   \n",
            "4              NaN           NaN            NaN            NaN   \n",
            "...            ...           ...            ...            ...   \n",
            "49995          NaN           NaN            NaN            NaN   \n",
            "49996          NaN           NaN            NaN            NaN   \n",
            "49997          NaN           NaN            NaN            NaN   \n",
            "49998          NaN           NaN            NaN            NaN   \n",
            "49999          NaN           NaN            NaN            NaN   \n",
            "\n",
            "       Education Type  Subject_1  Subject_2  Subject_3  Subject_4  Subject_5  \\\n",
            "0                 NaN        NaN        NaN        NaN        NaN        NaN   \n",
            "1                 NaN        NaN        NaN        NaN        NaN        NaN   \n",
            "2                 NaN        NaN        NaN        NaN        NaN        NaN   \n",
            "3                 NaN        NaN        NaN        NaN        NaN        NaN   \n",
            "4                 NaN        NaN        NaN        NaN        NaN        NaN   \n",
            "...               ...        ...        ...        ...        ...        ...   \n",
            "49995             NaN        NaN        NaN        NaN        NaN        NaN   \n",
            "49996             NaN        NaN        NaN        NaN        NaN        NaN   \n",
            "49997             NaN        NaN  30.790153        NaN        NaN        NaN   \n",
            "49998             NaN        NaN        NaN        NaN        NaN        NaN   \n",
            "49999             NaN        NaN        NaN        NaN        NaN        NaN   \n",
            "\n",
            "       Subject_6  Subject_7  Subject_8  Subject_9  Subject_10  \n",
            "0            NaN        NaN        NaN        NaN         NaN  \n",
            "1            NaN        NaN        NaN        NaN         NaN  \n",
            "2            NaN        NaN        NaN        NaN         NaN  \n",
            "3            NaN        NaN        NaN        NaN         NaN  \n",
            "4            NaN        NaN        NaN        NaN         NaN  \n",
            "...          ...        ...        ...        ...         ...  \n",
            "49995        NaN        NaN        NaN        NaN         NaN  \n",
            "49996        NaN        NaN        NaN        NaN         NaN  \n",
            "49997        NaN        NaN        NaN        NaN         NaN  \n",
            "49998        NaN        NaN        NaN        NaN         NaN  \n",
            "49999        NaN        NaN        NaN        NaN         NaN  \n",
            "\n",
            "[50000 rows x 15 columns]\n"
          ]
        }
      ],
      "source": [
        "# evaluate upper and lower quartiles\n",
        "lower_quantile = temporary_df.quantile(0.01)\n",
        "upper_quantile = temporary_df.quantile(0.99)\n",
        "\n",
        "#print upper and lower quartiles\n",
        "print(f\"Lower Threshold (1st Percentile)\\n: {lower_quantile}\")\n",
        "print(f\"Upper Threshold (99th Percentile)\\n: {upper_quantile}\")\n",
        "\n",
        "# Detecting outliers\n",
        "outliers2 = temporary_df[(temporary_df < lower_quantile) | (temporary_df > upper_quantile)]\n",
        "print(f\"\\n\\n Outliers: {outliers2}\")"
      ]
    },
    {
      "cell_type": "markdown",
      "metadata": {
        "id": "bPNEeYTsddoU"
      },
      "source": [
        "Counting the noisy data in a dataset"
      ]
    },
    {
      "cell_type": "code",
      "execution_count": 177,
      "metadata": {
        "id": "xF1D7K4ta4qN",
        "colab": {
          "base_uri": "https://localhost:8080/"
        },
        "outputId": "b1d13071-c803-47df-b32c-f78dbb42c49a"
      },
      "outputs": [
        {
          "output_type": "stream",
          "name": "stdout",
          "text": [
            "Student Age         0\n",
            "Student year        0\n",
            "Father Degree       0\n",
            "Mother Degree       0\n",
            "Education Type      0\n",
            "Subject_1         500\n",
            "Subject_2         500\n",
            "Subject_3         500\n",
            "Subject_4         500\n",
            "Subject_5         500\n",
            "Subject_6         500\n",
            "Subject_7         500\n",
            "Subject_8         500\n",
            "Subject_9         500\n",
            "Subject_10        500\n",
            "dtype: int64\n"
          ]
        }
      ],
      "source": [
        "print(outliers2.count())"
      ]
    },
    {
      "cell_type": "markdown",
      "metadata": {
        "id": "fD7iti6ReTST"
      },
      "source": [
        "# Median Calculation Technique\n",
        "Using this approach to remove noisy data in a dataset"
      ]
    },
    {
      "cell_type": "code",
      "execution_count": 178,
      "metadata": {
        "id": "9qjSwndxaGe1",
        "colab": {
          "base_uri": "https://localhost:8080/"
        },
        "outputId": "de6bde8e-0765-4c1c-9092-066afee9dd9f"
      },
      "outputs": [
        {
          "output_type": "stream",
          "name": "stdout",
          "text": [
            "\n",
            "Dataset with Outliers Replaced by Median:        Student Age  Student year  Father Degree  Mother Degree  \\\n",
            "0             18.0           3.0            1.0            1.0   \n",
            "1             14.0           3.0            0.0            3.0   \n",
            "2             16.0           0.0            0.0            3.0   \n",
            "3             14.0           0.0            0.0            0.0   \n",
            "4             17.0           1.0            3.0            0.0   \n",
            "...            ...           ...            ...            ...   \n",
            "49995         15.0           1.0            0.0            2.0   \n",
            "49996         16.0           1.0            0.0            3.0   \n",
            "49997         14.0           0.0            3.0            3.0   \n",
            "49998         15.0           0.0            3.0            0.0   \n",
            "49999         18.0           2.0            3.0            2.0   \n",
            "\n",
            "       Education Type   Subject_1   Subject_2  Subject_3   Subject_4  \\\n",
            "0                 0.0   72.236740   85.931149  65.698513   84.163844   \n",
            "1                 0.0   91.603078   73.186427  64.240239   47.786542   \n",
            "2                 0.0  100.000000   83.985923  89.378162   82.446853   \n",
            "3                 2.0   91.082131  100.000000  78.802220   78.447670   \n",
            "4                 1.0   74.906144   69.518146  65.284841   56.317028   \n",
            "...               ...         ...         ...        ...         ...   \n",
            "49995             0.0   84.760901   96.154122  71.428657   52.579123   \n",
            "49996             1.0   82.196281   84.939252  56.661299   88.210451   \n",
            "49997             2.0   90.035457   74.916854  64.771808   82.749067   \n",
            "49998             2.0   58.177784   81.879862  86.309918  100.000000   \n",
            "49999             0.0   45.313913   92.998433  63.855792   70.016869   \n",
            "\n",
            "       Subject_5  Subject_6   Subject_7  Subject_8  Subject_9  Subject_10  \n",
            "0      78.179414  50.578209   70.071681  80.294509  72.709741   59.080678  \n",
            "1      83.138581  66.913702   42.587211  87.997009  89.176862   78.493158  \n",
            "2      86.368818  90.347020  100.000000  83.972296  69.212961   79.206634  \n",
            "3      64.606239  82.045421   69.869099  91.122870  95.207752   52.602706  \n",
            "4      69.758140  85.810641   63.776955  61.802599  84.951132   68.146467  \n",
            "...          ...        ...         ...        ...        ...         ...  \n",
            "49995  62.243286  63.188827   93.744022  72.375436  77.848848   66.807401  \n",
            "49996  84.573156  73.009089   68.842074  76.605868  76.255564   80.606913  \n",
            "49997  52.774571  65.665893   74.760145  74.148929  64.687866   86.811651  \n",
            "49998  77.616452  89.898231   62.805221  57.548277  70.028551   80.779414  \n",
            "49999  77.037784  77.340919   51.002621  40.701383  64.671870   76.130232  \n",
            "\n",
            "[50000 rows x 15 columns]\n"
          ]
        }
      ],
      "source": [
        "# Calculate median for each column\n",
        "median_values = temporary_df.median()\n",
        "\n",
        "# function to calculate mean of noisy data\n",
        "def replace_outliers_with_median(column):\n",
        "    return np.where((column < lower_quantile[column.name]) | (column > upper_quantile[column.name]),\n",
        "                    median_values[column.name],\n",
        "                    column)\n",
        "\n",
        "# applying function to noisy data in a dataset\n",
        "temporary_df = temporary_df.apply(replace_outliers_with_median)\n",
        "\n",
        "print(f\"\\nDataset with Outliers Replaced by Median: {temporary_df}\")"
      ]
    },
    {
      "cell_type": "markdown",
      "metadata": {
        "id": "O947piMieABQ"
      },
      "source": [
        "After implementing Median Calculation Technique, now again we check the noisy data and finds that the noisy data removes."
      ]
    },
    {
      "cell_type": "code",
      "execution_count": 179,
      "metadata": {
        "id": "1GLV2RthV7HC",
        "colab": {
          "base_uri": "https://localhost:8080/"
        },
        "outputId": "ec8b1f09-19c9-4a88-b8a7-a105eacca2d6"
      },
      "outputs": [
        {
          "output_type": "stream",
          "name": "stdout",
          "text": [
            "Outliers:        Student Age  Student year  Father Degree  Mother Degree  \\\n",
            "0              NaN           NaN            NaN            NaN   \n",
            "1              NaN           NaN            NaN            NaN   \n",
            "2              NaN           NaN            NaN            NaN   \n",
            "3              NaN           NaN            NaN            NaN   \n",
            "4              NaN           NaN            NaN            NaN   \n",
            "...            ...           ...            ...            ...   \n",
            "49995          NaN           NaN            NaN            NaN   \n",
            "49996          NaN           NaN            NaN            NaN   \n",
            "49997          NaN           NaN            NaN            NaN   \n",
            "49998          NaN           NaN            NaN            NaN   \n",
            "49999          NaN           NaN            NaN            NaN   \n",
            "\n",
            "       Education Type  Subject_1  Subject_2  Subject_3  Subject_4  Subject_5  \\\n",
            "0                 NaN        NaN        NaN        NaN        NaN        NaN   \n",
            "1                 NaN        NaN        NaN        NaN        NaN        NaN   \n",
            "2                 NaN        NaN        NaN        NaN        NaN        NaN   \n",
            "3                 NaN        NaN        NaN        NaN        NaN        NaN   \n",
            "4                 NaN        NaN        NaN        NaN        NaN        NaN   \n",
            "...               ...        ...        ...        ...        ...        ...   \n",
            "49995             NaN        NaN        NaN        NaN        NaN        NaN   \n",
            "49996             NaN        NaN        NaN        NaN        NaN        NaN   \n",
            "49997             NaN        NaN        NaN        NaN        NaN        NaN   \n",
            "49998             NaN        NaN        NaN        NaN        NaN        NaN   \n",
            "49999             NaN        NaN        NaN        NaN        NaN        NaN   \n",
            "\n",
            "       Subject_6  Subject_7  Subject_8  Subject_9  Subject_10  \n",
            "0            NaN        NaN        NaN        NaN         NaN  \n",
            "1            NaN        NaN        NaN        NaN         NaN  \n",
            "2            NaN        NaN        NaN        NaN         NaN  \n",
            "3            NaN        NaN        NaN        NaN         NaN  \n",
            "4            NaN        NaN        NaN        NaN         NaN  \n",
            "...          ...        ...        ...        ...         ...  \n",
            "49995        NaN        NaN        NaN        NaN         NaN  \n",
            "49996        NaN        NaN        NaN        NaN         NaN  \n",
            "49997        NaN        NaN        NaN        NaN         NaN  \n",
            "49998        NaN        NaN        NaN        NaN         NaN  \n",
            "49999        NaN        NaN        NaN        NaN         NaN  \n",
            "\n",
            "[50000 rows x 15 columns]\n"
          ]
        }
      ],
      "source": [
        "outliers2 = temporary_df[(temporary_df < lower_quantile) | (temporary_df > upper_quantile)]\n",
        "print(f\"Outliers: {outliers2}\")"
      ]
    },
    {
      "cell_type": "markdown",
      "metadata": {
        "id": "blsu79pSe4qw"
      },
      "source": [
        "Again count the noisy data to verify that it removes"
      ]
    },
    {
      "cell_type": "code",
      "execution_count": 180,
      "metadata": {
        "id": "VJyizEBUfRik",
        "colab": {
          "base_uri": "https://localhost:8080/"
        },
        "outputId": "86c201db-be92-4cfc-d905-eab9165fcd1e"
      },
      "outputs": [
        {
          "output_type": "stream",
          "name": "stdout",
          "text": [
            "Student Age       0\n",
            "Student year      0\n",
            "Father Degree     0\n",
            "Mother Degree     0\n",
            "Education Type    0\n",
            "Subject_1         0\n",
            "Subject_2         0\n",
            "Subject_3         0\n",
            "Subject_4         0\n",
            "Subject_5         0\n",
            "Subject_6         0\n",
            "Subject_7         0\n",
            "Subject_8         0\n",
            "Subject_9         0\n",
            "Subject_10        0\n",
            "dtype: int64\n"
          ]
        }
      ],
      "source": [
        "print(outliers2.count())"
      ]
    },
    {
      "cell_type": "markdown",
      "metadata": {
        "id": "jjl09uUInIkA"
      },
      "source": [
        "**Check all the variables in the list form**"
      ]
    },
    {
      "cell_type": "code",
      "execution_count": 181,
      "metadata": {
        "id": "wbuDPHOhQTPb",
        "colab": {
          "base_uri": "https://localhost:8080/"
        },
        "outputId": "0e10f16d-7815-4b5f-f166-c6605ea4b8d1"
      },
      "outputs": [
        {
          "output_type": "stream",
          "name": "stdout",
          "text": [
            "['Student Age', 'Student year', 'Father Degree', 'Mother Degree', 'Education Type', 'Subject_1', 'Subject_2', 'Subject_3', 'Subject_4', 'Subject_5', 'Subject_6', 'Subject_7', 'Subject_8', 'Subject_9', 'Subject_10']\n"
          ]
        }
      ],
      "source": [
        "test_1 = temporary_df.columns.tolist()\n",
        "print(test_1)"
      ]
    },
    {
      "cell_type": "markdown",
      "metadata": {
        "id": "pf4xAs3MfSaq"
      },
      "source": [
        "# Z-Score Test\n",
        "Again verify the noise and inconsistencies in data by using Z-Score Test"
      ]
    },
    {
      "cell_type": "code",
      "execution_count": 182,
      "metadata": {
        "id": "jSVNqtSzQKZL",
        "colab": {
          "base_uri": "https://localhost:8080/"
        },
        "outputId": "8d113b3b-0772-487b-d34d-ec1fa929ffae"
      },
      "outputs": [
        {
          "output_type": "stream",
          "name": "stdout",
          "text": [
            "       Student Age  Student year  Father Degree  Mother Degree  \\\n",
            "0              NaN           NaN            NaN            NaN   \n",
            "1              NaN           NaN            NaN            NaN   \n",
            "2              NaN           NaN            NaN            NaN   \n",
            "3              NaN           NaN            NaN            NaN   \n",
            "4              NaN           NaN            NaN            NaN   \n",
            "...            ...           ...            ...            ...   \n",
            "49995          NaN           NaN            NaN            NaN   \n",
            "49996          NaN           NaN            NaN            NaN   \n",
            "49997          NaN           NaN            NaN            NaN   \n",
            "49998          NaN           NaN            NaN            NaN   \n",
            "49999          NaN           NaN            NaN            NaN   \n",
            "\n",
            "       Education Type  Subject_1  Subject_2  Subject_3  Subject_4  Subject_5  \\\n",
            "0                 NaN        NaN        NaN        NaN        NaN        NaN   \n",
            "1                 NaN        NaN        NaN        NaN        NaN        NaN   \n",
            "2                 NaN        NaN        NaN        NaN        NaN        NaN   \n",
            "3                 NaN        NaN        NaN        NaN        NaN        NaN   \n",
            "4                 NaN        NaN        NaN        NaN        NaN        NaN   \n",
            "...               ...        ...        ...        ...        ...        ...   \n",
            "49995             NaN        NaN        NaN        NaN        NaN        NaN   \n",
            "49996             NaN        NaN        NaN        NaN        NaN        NaN   \n",
            "49997             NaN        NaN        NaN        NaN        NaN        NaN   \n",
            "49998             NaN        NaN        NaN        NaN        NaN        NaN   \n",
            "49999             NaN        NaN        NaN        NaN        NaN        NaN   \n",
            "\n",
            "       Subject_6  Subject_7  Subject_8  Subject_9  Subject_10  \n",
            "0            NaN        NaN        NaN        NaN         NaN  \n",
            "1            NaN        NaN        NaN        NaN         NaN  \n",
            "2            NaN        NaN        NaN        NaN         NaN  \n",
            "3            NaN        NaN        NaN        NaN         NaN  \n",
            "4            NaN        NaN        NaN        NaN         NaN  \n",
            "...          ...        ...        ...        ...         ...  \n",
            "49995        NaN        NaN        NaN        NaN         NaN  \n",
            "49996        NaN        NaN        NaN        NaN         NaN  \n",
            "49997        NaN        NaN        NaN        NaN         NaN  \n",
            "49998        NaN        NaN        NaN        NaN         NaN  \n",
            "49999        NaN        NaN        NaN        NaN         NaN  \n",
            "\n",
            "[50000 rows x 15 columns]\n"
          ]
        }
      ],
      "source": [
        "from scipy import stats\n",
        "\n",
        "# Calculate z-scores for the specified column(s)\n",
        "z_scores = stats.zscore(temporary_df[test_1])\n",
        "\n",
        "# Identify outliers based on z-scores\n",
        "outliers_mask = (z_scores > 3) | (z_scores < -3)\n",
        "\n",
        "# Extract outliers from the original DataFrame\n",
        "outliers1 = temporary_df[outliers_mask]\n",
        "\n",
        "# Print the outliers\n",
        "print(outliers1)\n"
      ]
    },
    {
      "cell_type": "markdown",
      "metadata": {
        "id": "zBcgoIZ9fxXy"
      },
      "source": [
        "Count the noise in data and find that there is no noise left in the data"
      ]
    },
    {
      "cell_type": "code",
      "execution_count": 183,
      "metadata": {
        "id": "lYRdfX1mVw-y",
        "colab": {
          "base_uri": "https://localhost:8080/"
        },
        "outputId": "e2235388-25e4-4a65-ad34-e003bc1e7d54"
      },
      "outputs": [
        {
          "output_type": "stream",
          "name": "stdout",
          "text": [
            "Student Age       0\n",
            "Student year      0\n",
            "Father Degree     0\n",
            "Mother Degree     0\n",
            "Education Type    0\n",
            "Subject_1         0\n",
            "Subject_2         0\n",
            "Subject_3         0\n",
            "Subject_4         0\n",
            "Subject_5         0\n",
            "Subject_6         0\n",
            "Subject_7         0\n",
            "Subject_8         0\n",
            "Subject_9         0\n",
            "Subject_10        0\n",
            "dtype: int64\n"
          ]
        }
      ],
      "source": [
        "print(outliers1.count())"
      ]
    },
    {
      "cell_type": "markdown",
      "metadata": {
        "id": "RpzCkc3RnYEU"
      },
      "source": [
        "Calculate the Average Marks of all the subject for processing because it is difficult to use multiple subjects"
      ]
    },
    {
      "cell_type": "code",
      "execution_count": 184,
      "metadata": {
        "id": "EhvzvKGosi_v",
        "colab": {
          "base_uri": "https://localhost:8080/"
        },
        "outputId": "0e51f447-2ff2-4bc0-cfd1-84fecefb8138"
      },
      "outputs": [
        {
          "output_type": "stream",
          "name": "stdout",
          "text": [
            "   Student Age  Student year  Father Degree  Mother Degree  Education Type  \\\n",
            "0         18.0           3.0            1.0            1.0             0.0   \n",
            "1         14.0           3.0            0.0            3.0             0.0   \n",
            "2         16.0           0.0            0.0            3.0             0.0   \n",
            "3         14.0           0.0            0.0            0.0             2.0   \n",
            "4         17.0           1.0            3.0            0.0             1.0   \n",
            "\n",
            "    Subject_1   Subject_2  Subject_3  Subject_4  Subject_5  Subject_6  \\\n",
            "0   72.236740   85.931149  65.698513  84.163844  78.179414  50.578209   \n",
            "1   91.603078   73.186427  64.240239  47.786542  83.138581  66.913702   \n",
            "2  100.000000   83.985923  89.378162  82.446853  86.368818  90.347020   \n",
            "3   91.082131  100.000000  78.802220  78.447670  64.606239  82.045421   \n",
            "4   74.906144   69.518146  65.284841  56.317028  69.758140  85.810641   \n",
            "\n",
            "    Subject_7  Subject_8  Subject_9  Subject_10  Mean Subject Score  \n",
            "0   70.071681  80.294509  72.709741   59.080678           71.894448  \n",
            "1   42.587211  87.997009  89.176862   78.493158           72.512281  \n",
            "2  100.000000  83.972296  69.212961   79.206634           86.491867  \n",
            "3   69.869099  91.122870  95.207752   52.602706           80.378611  \n",
            "4   63.776955  61.802599  84.951132   68.146467           70.027209  \n"
          ]
        }
      ],
      "source": [
        "# List of subject columns you want to average\n",
        "subject_columns = [f'Subject_{i}' for i in range(1, 11)]\n",
        "\n",
        "# Calculate the mean of the specified columns and save it in a new column\n",
        "temporary_df['Mean Subject Score'] = temporary_df[subject_columns].mean(axis=1)\n",
        "\n",
        "# Optionally, save the updated DataFrame back to a CSV\n",
        "temporary_df.to_csv('egypt_education_dataset.csv', index=False)\n",
        "\n",
        "# Display the updated DataFrame\n",
        "print(temporary_df.head())"
      ]
    },
    {
      "cell_type": "code",
      "execution_count": 185,
      "metadata": {
        "id": "86dN3eYquJOl",
        "colab": {
          "base_uri": "https://localhost:8080/"
        },
        "outputId": "9c916240-a5da-4089-e3e3-e3d64450a30a"
      },
      "outputs": [
        {
          "output_type": "stream",
          "name": "stdout",
          "text": [
            "<class 'pandas.core.frame.DataFrame'>\n",
            "RangeIndex: 50000 entries, 0 to 49999\n",
            "Data columns (total 16 columns):\n",
            " #   Column              Non-Null Count  Dtype  \n",
            "---  ------              --------------  -----  \n",
            " 0   Student Age         50000 non-null  float64\n",
            " 1   Student year        50000 non-null  float64\n",
            " 2   Father Degree       50000 non-null  float64\n",
            " 3   Mother Degree       50000 non-null  float64\n",
            " 4   Education Type      50000 non-null  float64\n",
            " 5   Subject_1           50000 non-null  float64\n",
            " 6   Subject_2           50000 non-null  float64\n",
            " 7   Subject_3           50000 non-null  float64\n",
            " 8   Subject_4           50000 non-null  float64\n",
            " 9   Subject_5           50000 non-null  float64\n",
            " 10  Subject_6           50000 non-null  float64\n",
            " 11  Subject_7           50000 non-null  float64\n",
            " 12  Subject_8           50000 non-null  float64\n",
            " 13  Subject_9           50000 non-null  float64\n",
            " 14  Subject_10          50000 non-null  float64\n",
            " 15  Mean Subject Score  50000 non-null  float64\n",
            "dtypes: float64(16)\n",
            "memory usage: 6.1 MB\n",
            "None\n"
          ]
        }
      ],
      "source": [
        "print(temporary_df.info()) # check datatypes of updated dataset"
      ]
    },
    {
      "cell_type": "markdown",
      "metadata": {
        "id": "GLUQT4Tun83q"
      },
      "source": [
        "# Data Visualization"
      ]
    },
    {
      "cell_type": "markdown",
      "metadata": {
        "id": "SGglI1-BoOIY"
      },
      "source": [
        "# Line Plot to visualize Mean Subject score\n",
        "Visualize the pattern of students mean subject marks\n",
        "\n",
        "**Findings: Student Performance Evaluation**"
      ]
    },
    {
      "cell_type": "code",
      "execution_count": 186,
      "metadata": {
        "id": "V1g2WeaU3DYJ",
        "colab": {
          "base_uri": "https://localhost:8080/",
          "height": 391
        },
        "outputId": "efbb040d-eec8-4b4d-9e3c-6e25276a6d41"
      },
      "outputs": [
        {
          "output_type": "display_data",
          "data": {
            "text/plain": [
              "<Figure size 800x400 with 1 Axes>"
            ],
            "image/png": "[encoded data removed]"
          },
          "metadata": {}
        }
      ],
      "source": [
        "temporary_df['Mean Subject Score'].plot(kind='line', figsize=(8, 4), title='Mean Subject Score')\n",
        "plt.gca().spines[['top', 'right']].set_visible(False)"
      ]
    },
    {
      "cell_type": "markdown",
      "metadata": {
        "id": "5dle6I6so7_x"
      },
      "source": [
        "# Scatter Plot to visualize how Education Type is affected by specific Subject Score\n",
        "Visualize Education Type with respect to Student Mean Score through Scatter Plot.\n",
        "\n",
        "**Findings: Mean Subject Score Trend with respect to Education Type**"
      ]
    },
    {
      "cell_type": "code",
      "execution_count": 187,
      "metadata": {
        "id": "1wh_6Pvjkw0D",
        "colab": {
          "base_uri": "https://localhost:8080/",
          "height": 449
        },
        "outputId": "1e14d062-4466-4098-8c6c-65d13b632970"
      },
      "outputs": [
        {
          "output_type": "display_data",
          "data": {
            "text/plain": [
              "<Figure size 640x480 with 1 Axes>"
            ],
            "image/png": "[encoded data removed]"
          },
          "metadata": {}
        }
      ],
      "source": [
        "temporary_df.plot(kind='scatter', x='Mean Subject Score', y='Education Type', color='green', s=32, alpha=.8)\n",
        "plt.gca().spines[['top', 'right',]].set_visible(False)"
      ]
    },
    {
      "cell_type": "markdown",
      "metadata": {
        "id": "-dM9cJ9_pUFv"
      },
      "source": [
        "# Histogram to visualize how student Subject Score varies across different Education Types\n",
        "Visualize Education Tupe with respect to Student Mean Score through Histogram.\n",
        "\n",
        "**Findings: Mean Subject Score Trend with respect to Education Type**"
      ]
    },
    {
      "cell_type": "code",
      "execution_count": 188,
      "metadata": {
        "id": "haX4nQeFlOfu",
        "colab": {
          "base_uri": "https://localhost:8080/",
          "height": 447
        },
        "outputId": "c3a0d1ff-7e2d-4956-8f0e-e2caf3f66d19"
      },
      "outputs": [
        {
          "output_type": "stream",
          "name": "stderr",
          "text": [
            "WARNING:matplotlib.legend:No artists with labels found to put in legend.  Note that artists whose label start with an underscore are ignored when legend() is called with no argument.\n"
          ]
        },
        {
          "output_type": "display_data",
          "data": {
            "text/plain": [
              "<Figure size 800x400 with 1 Axes>"
            ],
            "image/png": "[encoded data removed]"
          },
          "metadata": {}
        }
      ],
      "source": [
        "plt.figure(figsize=(8, 4))\n",
        "sns.histplot(data=temporary_df, x='Mean Subject Score',\n",
        "             hue='Education Type', bins=20, kde=True, multiple='stack')\n",
        "plt.title('Distribution of Student Marks by Education Type')\n",
        "plt.xlabel('Student Marks')\n",
        "plt.ylabel('Frequency')\n",
        "plt.legend(title='Education Type')\n",
        "plt.show()"
      ]
    },
    {
      "cell_type": "markdown",
      "metadata": {
        "id": "w3ReFOaGqKc0"
      },
      "source": [
        "# FacetGrid to represent how subject scores varies with education type\n",
        "Visualize Education Type with respect to Student Mean Score through Pair Plot.\n",
        "\n",
        "**Findings: Mean Subject Score Trend with respect to Education Type**"
      ]
    },
    {
      "cell_type": "code",
      "execution_count": 189,
      "metadata": {
        "id": "kMFsACtmm6TG",
        "colab": {
          "base_uri": "https://localhost:8080/",
          "height": 324
        },
        "outputId": "66cc0b9b-48e9-432a-e80c-c6d1ed8e181c"
      },
      "outputs": [
        {
          "output_type": "execute_result",
          "data": {
            "text/plain": [
              "<seaborn.axisgrid.FacetGrid at 0x7c25fc5232e0>"
            ]
          },
          "metadata": {},
          "execution_count": 189
        },
        {
          "output_type": "display_data",
          "data": {
            "text/plain": [
              "<Figure size 900x300 with 3 Axes>"
            ],
            "image/png": "[encoded data removed]"
          },
          "metadata": {}
        }
      ],
      "source": [
        "g = sns.FacetGrid(temporary_df, col='Education Type')\n",
        "g.map(sns.histplot, 'Mean Subject Score')"
      ]
    },
    {
      "cell_type": "markdown",
      "metadata": {
        "id": "wfRl6R8qqa7k"
      },
      "source": [
        "# Scatterplot to visualize how Student Age varies with the particular Subject Score\n",
        "Visualize how Student Age varies with Student Mean Score and specific Educaion type through Scatter Plot.\n",
        "\n",
        "**Findings: Age Distribution by Student Mean Subject Score for particular Education Type**"
      ]
    },
    {
      "cell_type": "code",
      "execution_count": 190,
      "metadata": {
        "id": "3ZXiBWsenFXl",
        "colab": {
          "base_uri": "https://localhost:8080/",
          "height": 466
        },
        "outputId": "45d5c679-5e53-46db-cf21-5e840f73f54d"
      },
      "outputs": [
        {
          "output_type": "execute_result",
          "data": {
            "text/plain": [
              "<Axes: xlabel='Student Age', ylabel='Mean Subject Score'>"
            ]
          },
          "metadata": {},
          "execution_count": 190
        },
        {
          "output_type": "display_data",
          "data": {
            "text/plain": [
              "<Figure size 640x480 with 1 Axes>"
            ],
            "image/png": "[encoded data removed]"
          },
          "metadata": {}
        }
      ],
      "source": [
        "sns.scatterplot(data=temporary_df, x='Student Age', y='Mean Subject Score', hue='Education Type')"
      ]
    },
    {
      "cell_type": "markdown",
      "metadata": {
        "id": "d_BjOEsTqnbm"
      },
      "source": [
        "# Violen Plot to visualize how Student Age varies with Education Type\n",
        "Visualize how Student Age varies with specific Educaion type through Violen Plot.\n",
        "\n",
        "**Findings: Age Distribution by Education Type**"
      ]
    },
    {
      "cell_type": "code",
      "execution_count": 191,
      "metadata": {
        "id": "lEgtYPm734l7",
        "colab": {
          "base_uri": "https://localhost:8080/",
          "height": 466
        },
        "outputId": "e7a42d10-41b6-47d0-bcec-1eb038fa4537"
      },
      "outputs": [
        {
          "output_type": "execute_result",
          "data": {
            "text/plain": [
              "<Axes: xlabel='Student Age', ylabel='Education Type'>"
            ]
          },
          "metadata": {},
          "execution_count": 191
        },
        {
          "output_type": "display_data",
          "data": {
            "text/plain": [
              "<Figure size 640x480 with 1 Axes>"
            ],
            "image/png": "[encoded data removed]"
          },
          "metadata": {}
        }
      ],
      "source": [
        "sns.violinplot(data=temporary_df, x='Student Age', y='Education Type')"
      ]
    },
    {
      "cell_type": "code",
      "execution_count": 192,
      "metadata": {
        "id": "ttxeyfM5jWAU",
        "colab": {
          "base_uri": "https://localhost:8080/",
          "height": 418
        },
        "outputId": "ea0c9c44-a3f9-4020-8b56-e9422a07683b"
      },
      "outputs": [
        {
          "output_type": "execute_result",
          "data": {
            "text/plain": [
              "   Student Age  Student year  Father Degree  Mother Degree  Education Type  \\\n",
              "0         18.0           3.0            1.0            1.0             0.0   \n",
              "1         14.0           3.0            0.0            3.0             0.0   \n",
              "2         16.0           0.0            0.0            3.0             0.0   \n",
              "3         14.0           0.0            0.0            0.0             2.0   \n",
              "4         17.0           1.0            3.0            0.0             1.0   \n",
              "5         15.0           1.0            0.0            2.0             0.0   \n",
              "6         18.0           0.0            0.0            1.0             1.0   \n",
              "7         14.0           2.0            2.0            3.0             2.0   \n",
              "8         15.0           1.0            3.0            3.0             2.0   \n",
              "9         17.0           3.0            3.0            0.0             1.0   \n",
              "\n",
              "    Subject_1   Subject_2  Subject_3  Subject_4  Subject_5  Subject_6  \\\n",
              "0   72.236740   85.931149  65.698513  84.163844  78.179414  50.578209   \n",
              "1   91.603078   73.186427  64.240239  47.786542  83.138581  66.913702   \n",
              "2  100.000000   83.985923  89.378162  82.446853  86.368818  90.347020   \n",
              "3   91.082131  100.000000  78.802220  78.447670  64.606239  82.045421   \n",
              "4   74.906144   69.518146  65.284841  56.317028  69.758140  85.810641   \n",
              "5   72.529418   84.630127  88.036813  83.419565  95.994759  81.416093   \n",
              "6   83.733170   53.490681  64.176832  74.788082  64.961130  69.594212   \n",
              "7   61.324515   65.694727  56.516955  76.300636  78.025103  71.510545   \n",
              "8   69.819967   74.916854  76.873535  49.365484  67.708957  61.409847   \n",
              "9   52.064120   75.201754  80.705790  67.390144  78.045191  69.355050   \n",
              "\n",
              "    Subject_7  Subject_8  Subject_9  Subject_10  Mean Subject Score  \n",
              "0   70.071681  80.294509  72.709741   59.080678           71.894448  \n",
              "1   42.587211  87.997009  89.176862   78.493158           72.512281  \n",
              "2  100.000000  83.972296  69.212961   79.206634           86.491867  \n",
              "3   69.869099  91.122870  95.207752   52.602706           80.378611  \n",
              "4   63.776955  61.802599  84.951132   68.146467           70.027209  \n",
              "5   78.758795  46.535227  77.553887   59.407396           76.828208  \n",
              "6   80.826295  72.337257  88.716768   93.395562           74.601999  \n",
              "7   64.870428  45.915520  42.069972   69.812132           63.204053  \n",
              "8   74.602374  75.597677  85.594564   80.016017           71.590528  \n",
              "9   82.103080  71.724884  70.873844   61.598956           70.906281  "
            ],
            "text/html": [
              "\n",
              "  <div id=\"df-562c114d-85a6-4534-a3ab-07011fe47bc8\" class=\"colab-df-container\">\n",
              "    <div>\n",
              "<style scoped>\n",
              "    .dataframe tbody tr th:only-of-type {\n",
              "        vertical-align: middle;\n",
              "    }\n",
              "\n",
              "    .dataframe tbody tr th {\n",
              "        vertical-align: top;\n",
              "    }\n",
              "\n",
              "    .dataframe thead th {\n",
              "        text-align: right;\n",
              "    }\n",
              "</style>\n",
              "<table border=\"1\" class=\"dataframe\">\n",
              "  <thead>\n",
              "    <tr style=\"text-align: right;\">\n",
              "      <th></th>\n",
              "      <th>Student Age</th>\n",
              "      <th>Student year</th>\n",
              "      <th>Father Degree</th>\n",
              "      <th>Mother Degree</th>\n",
              "      <th>Education Type</th>\n",
              "      <th>Subject_1</th>\n",
              "      <th>Subject_2</th>\n",
              "      <th>Subject_3</th>\n",
              "      <th>Subject_4</th>\n",
              "      <th>Subject_5</th>\n",
              "      <th>Subject_6</th>\n",
              "      <th>Subject_7</th>\n",
              "      <th>Subject_8</th>\n",
              "      <th>Subject_9</th>\n",
              "      <th>Subject_10</th>\n",
              "      <th>Mean Subject Score</th>\n",
              "    </tr>\n",
              "  </thead>\n",
              "  <tbody>\n",
              "    <tr>\n",
              "      <th>0</th>\n",
              "      <td>18.0</td>\n",
              "      <td>3.0</td>\n",
              "      <td>1.0</td>\n",
              "      <td>1.0</td>\n",
              "      <td>0.0</td>\n",
              "      <td>72.236740</td>\n",
              "      <td>85.931149</td>\n",
              "      <td>65.698513</td>\n",
              "      <td>84.163844</td>\n",
              "      <td>78.179414</td>\n",
              "      <td>50.578209</td>\n",
              "      <td>70.071681</td>\n",
              "      <td>80.294509</td>\n",
              "      <td>72.709741</td>\n",
              "      <td>59.080678</td>\n",
              "      <td>71.894448</td>\n",
              "    </tr>\n",
              "    <tr>\n",
              "      <th>1</th>\n",
              "      <td>14.0</td>\n",
              "      <td>3.0</td>\n",
              "      <td>0.0</td>\n",
              "      <td>3.0</td>\n",
              "      <td>0.0</td>\n",
              "      <td>91.603078</td>\n",
              "      <td>73.186427</td>\n",
              "      <td>64.240239</td>\n",
              "      <td>47.786542</td>\n",
              "      <td>83.138581</td>\n",
              "      <td>66.913702</td>\n",
              "      <td>42.587211</td>\n",
              "      <td>87.997009</td>\n",
              "      <td>89.176862</td>\n",
              "      <td>78.493158</td>\n",
              "      <td>72.512281</td>\n",
              "    </tr>\n",
              "    <tr>\n",
              "      <th>2</th>\n",
              "      <td>16.0</td>\n",
              "      <td>0.0</td>\n",
              "      <td>0.0</td>\n",
              "      <td>3.0</td>\n",
              "      <td>0.0</td>\n",
              "      <td>100.000000</td>\n",
              "      <td>83.985923</td>\n",
              "      <td>89.378162</td>\n",
              "      <td>82.446853</td>\n",
              "      <td>86.368818</td>\n",
              "      <td>90.347020</td>\n",
              "      <td>100.000000</td>\n",
              "      <td>83.972296</td>\n",
              "      <td>69.212961</td>\n",
              "      <td>79.206634</td>\n",
              "      <td>86.491867</td>\n",
              "    </tr>\n",
              "    <tr>\n",
              "      <th>3</th>\n",
              "      <td>14.0</td>\n",
              "      <td>0.0</td>\n",
              "      <td>0.0</td>\n",
              "      <td>0.0</td>\n",
              "      <td>2.0</td>\n",
              "      <td>91.082131</td>\n",
              "      <td>100.000000</td>\n",
              "      <td>78.802220</td>\n",
              "      <td>78.447670</td>\n",
              "      <td>64.606239</td>\n",
              "      <td>82.045421</td>\n",
              "      <td>69.869099</td>\n",
              "      <td>91.122870</td>\n",
              "      <td>95.207752</td>\n",
              "      <td>52.602706</td>\n",
              "      <td>80.378611</td>\n",
              "    </tr>\n",
              "    <tr>\n",
              "      <th>4</th>\n",
              "      <td>17.0</td>\n",
              "      <td>1.0</td>\n",
              "      <td>3.0</td>\n",
              "      <td>0.0</td>\n",
              "      <td>1.0</td>\n",
              "      <td>74.906144</td>\n",
              "      <td>69.518146</td>\n",
              "      <td>65.284841</td>\n",
              "      <td>56.317028</td>\n",
              "      <td>69.758140</td>\n",
              "      <td>85.810641</td>\n",
              "      <td>63.776955</td>\n",
              "      <td>61.802599</td>\n",
              "      <td>84.951132</td>\n",
              "      <td>68.146467</td>\n",
              "      <td>70.027209</td>\n",
              "    </tr>\n",
              "    <tr>\n",
              "      <th>5</th>\n",
              "      <td>15.0</td>\n",
              "      <td>1.0</td>\n",
              "      <td>0.0</td>\n",
              "      <td>2.0</td>\n",
              "      <td>0.0</td>\n",
              "      <td>72.529418</td>\n",
              "      <td>84.630127</td>\n",
              "      <td>88.036813</td>\n",
              "      <td>83.419565</td>\n",
              "      <td>95.994759</td>\n",
              "      <td>81.416093</td>\n",
              "      <td>78.758795</td>\n",
              "      <td>46.535227</td>\n",
              "      <td>77.553887</td>\n",
              "      <td>59.407396</td>\n",
              "      <td>76.828208</td>\n",
              "    </tr>\n",
              "    <tr>\n",
              "      <th>6</th>\n",
              "      <td>18.0</td>\n",
              "      <td>0.0</td>\n",
              "      <td>0.0</td>\n",
              "      <td>1.0</td>\n",
              "      <td>1.0</td>\n",
              "      <td>83.733170</td>\n",
              "      <td>53.490681</td>\n",
              "      <td>64.176832</td>\n",
              "      <td>74.788082</td>\n",
              "      <td>64.961130</td>\n",
              "      <td>69.594212</td>\n",
              "      <td>80.826295</td>\n",
              "      <td>72.337257</td>\n",
              "      <td>88.716768</td>\n",
              "      <td>93.395562</td>\n",
              "      <td>74.601999</td>\n",
              "    </tr>\n",
              "    <tr>\n",
              "      <th>7</th>\n",
              "      <td>14.0</td>\n",
              "      <td>2.0</td>\n",
              "      <td>2.0</td>\n",
              "      <td>3.0</td>\n",
              "      <td>2.0</td>\n",
              "      <td>61.324515</td>\n",
              "      <td>65.694727</td>\n",
              "      <td>56.516955</td>\n",
              "      <td>76.300636</td>\n",
              "      <td>78.025103</td>\n",
              "      <td>71.510545</td>\n",
              "      <td>64.870428</td>\n",
              "      <td>45.915520</td>\n",
              "      <td>42.069972</td>\n",
              "      <td>69.812132</td>\n",
              "      <td>63.204053</td>\n",
              "    </tr>\n",
              "    <tr>\n",
              "      <th>8</th>\n",
              "      <td>15.0</td>\n",
              "      <td>1.0</td>\n",
              "      <td>3.0</td>\n",
              "      <td>3.0</td>\n",
              "      <td>2.0</td>\n",
              "      <td>69.819967</td>\n",
              "      <td>74.916854</td>\n",
              "      <td>76.873535</td>\n",
              "      <td>49.365484</td>\n",
              "      <td>67.708957</td>\n",
              "      <td>61.409847</td>\n",
              "      <td>74.602374</td>\n",
              "      <td>75.597677</td>\n",
              "      <td>85.594564</td>\n",
              "      <td>80.016017</td>\n",
              "      <td>71.590528</td>\n",
              "    </tr>\n",
              "    <tr>\n",
              "      <th>9</th>\n",
              "      <td>17.0</td>\n",
              "      <td>3.0</td>\n",
              "      <td>3.0</td>\n",
              "      <td>0.0</td>\n",
              "      <td>1.0</td>\n",
              "      <td>52.064120</td>\n",
              "      <td>75.201754</td>\n",
              "      <td>80.705790</td>\n",
              "      <td>67.390144</td>\n",
              "      <td>78.045191</td>\n",
              "      <td>69.355050</td>\n",
              "      <td>82.103080</td>\n",
              "      <td>71.724884</td>\n",
              "      <td>70.873844</td>\n",
              "      <td>61.598956</td>\n",
              "      <td>70.906281</td>\n",
              "    </tr>\n",
              "  </tbody>\n",
              "</table>\n",
              "</div>\n",
              "    <div class=\"colab-df-buttons\">\n",
              "\n",
              "  <div class=\"colab-df-container\">\n",
              "    <button class=\"colab-df-convert\" onclick=\"convertToInteractive('df-562c114d-85a6-4534-a3ab-07011fe47bc8')\"\n",
              "            title=\"Convert this dataframe to an interactive table.\"\n",
              "            style=\"display:none;\">\n",
              "\n",
              "  <svg xmlns=\"http://www.w3.org/2000/svg\" height=\"24px\" viewBox=\"0 -960 960 960\">\n",
              "    <path d=\"M120-120v-720h720v720H120Zm60-500h600v-160H180v160Zm220 220h160v-160H400v160Zm0 220h160v-160H400v160ZM180-400h160v-160H180v160Zm440 0h160v-160H620v160ZM180-180h160v-160H180v160Zm440 0h160v-160H620v160Z\"/>\n",
              "  </svg>\n",
              "    </button>\n",
              "\n",
              "  <style>\n",
              "    .colab-df-container {\n",
              "      display:flex;\n",
              "      gap: 12px;\n",
              "    }\n",
              "\n",
              "    .colab-df-convert {\n",
              "      background-color: #E8F0FE;\n",
              "      border: none;\n",
              "      border-radius: 50%;\n",
              "      cursor: pointer;\n",
              "      display: none;\n",
              "      fill: #1967D2;\n",
              "      height: 32px;\n",
              "      padding: 0 0 0 0;\n",
              "      width: 32px;\n",
              "    }\n",
              "\n",
              "    .colab-df-convert:hover {\n",
              "      background-color: #E2EBFA;\n",
              "      box-shadow: 0px 1px 2px rgba(60, 64, 67, 0.3), 0px 1px 3px 1px rgba(60, 64, 67, 0.15);\n",
              "      fill: #174EA6;\n",
              "    }\n",
              "\n",
              "    .colab-df-buttons div {\n",
              "      margin-bottom: 4px;\n",
              "    }\n",
              "\n",
              "    [theme=dark] .colab-df-convert {\n",
              "      background-color: #3B4455;\n",
              "      fill: #D2E3FC;\n",
              "    }\n",
              "\n",
              "    [theme=dark] .colab-df-convert:hover {\n",
              "      background-color: #434B5C;\n",
              "      box-shadow: 0px 1px 3px 1px rgba(0, 0, 0, 0.15);\n",
              "      filter: drop-shadow(0px 1px 2px rgba(0, 0, 0, 0.3));\n",
              "      fill: #FFFFFF;\n",
              "    }\n",
              "  </style>\n",
              "\n",
              "    <script>\n",
              "      const buttonEl =\n",
              "        document.querySelector('#df-562c114d-85a6-4534-a3ab-07011fe47bc8 button.colab-df-convert');\n",
              "      buttonEl.style.display =\n",
              "        google.colab.kernel.accessAllowed ? 'block' : 'none';\n",
              "\n",
              "      async function convertToInteractive(key) {\n",
              "        const element = document.querySelector('#df-562c114d-85a6-4534-a3ab-07011fe47bc8');\n",
              "        const dataTable =\n",
              "          await google.colab.kernel.invokeFunction('convertToInteractive',\n",
              "                                                    [key], {});\n",
              "        if (!dataTable) return;\n",
              "\n",
              "        const docLinkHtml = 'Like what you see? Visit the ' +\n",
              "          '<a target=\"_blank\" href=https://colab.research.google.com/notebooks/data_table.ipynb>data table notebook</a>'\n",
              "          + ' to learn more about interactive tables.';\n",
              "        element.innerHTML = '';\n",
              "        dataTable['output_type'] = 'display_data';\n",
              "        await google.colab.output.renderOutput(dataTable, element);\n",
              "        const docLink = document.createElement('div');\n",
              "        docLink.innerHTML = docLinkHtml;\n",
              "        element.appendChild(docLink);\n",
              "      }\n",
              "    </script>\n",
              "  </div>\n",
              "\n",
              "\n",
              "<div id=\"df-1ad885f8-b574-4e93-9a04-0bb57c6cfb31\">\n",
              "  <button class=\"colab-df-quickchart\" onclick=\"quickchart('df-1ad885f8-b574-4e93-9a04-0bb57c6cfb31')\"\n",
              "            title=\"Suggest charts\"\n",
              "            style=\"display:none;\">\n",
              "\n",
              "<svg xmlns=\"http://www.w3.org/2000/svg\" height=\"24px\"viewBox=\"0 0 24 24\"\n",
              "     width=\"24px\">\n",
              "    <g>\n",
              "        <path d=\"M19 3H5c-1.1 0-2 .9-2 2v14c0 1.1.9 2 2 2h14c1.1 0 2-.9 2-2V5c0-1.1-.9-2-2-2zM9 17H7v-7h2v7zm4 0h-2V7h2v10zm4 0h-2v-4h2v4z\"/>\n",
              "    </g>\n",
              "</svg>\n",
              "  </button>\n",
              "\n",
              "<style>\n",
              "  .colab-df-quickchart {\n",
              "      --bg-color: #E8F0FE;\n",
              "      --fill-color: #1967D2;\n",
              "      --hover-bg-color: #E2EBFA;\n",
              "      --hover-fill-color: #174EA6;\n",
              "      --disabled-fill-color: #AAA;\n",
              "      --disabled-bg-color: #DDD;\n",
              "  }\n",
              "\n",
              "  [theme=dark] .colab-df-quickchart {\n",
              "      --bg-color: #3B4455;\n",
              "      --fill-color: #D2E3FC;\n",
              "      --hover-bg-color: #434B5C;\n",
              "      --hover-fill-color: #FFFFFF;\n",
              "      --disabled-bg-color: #3B4455;\n",
              "      --disabled-fill-color: #666;\n",
              "  }\n",
              "\n",
              "  .colab-df-quickchart {\n",
              "    background-color: var(--bg-color);\n",
              "    border: none;\n",
              "    border-radius: 50%;\n",
              "    cursor: pointer;\n",
              "    display: none;\n",
              "    fill: var(--fill-color);\n",
              "    height: 32px;\n",
              "    padding: 0;\n",
              "    width: 32px;\n",
              "  }\n",
              "\n",
              "  .colab-df-quickchart:hover {\n",
              "    background-color: var(--hover-bg-color);\n",
              "    box-shadow: 0 1px 2px rgba(60, 64, 67, 0.3), 0 1px 3px 1px rgba(60, 64, 67, 0.15);\n",
              "    fill: var(--button-hover-fill-color);\n",
              "  }\n",
              "\n",
              "  .colab-df-quickchart-complete:disabled,\n",
              "  .colab-df-quickchart-complete:disabled:hover {\n",
              "    background-color: var(--disabled-bg-color);\n",
              "    fill: var(--disabled-fill-color);\n",
              "    box-shadow: none;\n",
              "  }\n",
              "\n",
              "  .colab-df-spinner {\n",
              "    border: 2px solid var(--fill-color);\n",
              "    border-color: transparent;\n",
              "    border-bottom-color: var(--fill-color);\n",
              "    animation:\n",
              "      spin 1s steps(1) infinite;\n",
              "  }\n",
              "\n",
              "  @keyframes spin {\n",
              "    0% {\n",
              "      border-color: transparent;\n",
              "      border-bottom-color: var(--fill-color);\n",
              "      border-left-color: var(--fill-color);\n",
              "    }\n",
              "    20% {\n",
              "      border-color: transparent;\n",
              "      border-left-color: var(--fill-color);\n",
              "      border-top-color: var(--fill-color);\n",
              "    }\n",
              "    30% {\n",
              "      border-color: transparent;\n",
              "      border-left-color: var(--fill-color);\n",
              "      border-top-color: var(--fill-color);\n",
              "      border-right-color: var(--fill-color);\n",
              "    }\n",
              "    40% {\n",
              "      border-color: transparent;\n",
              "      border-right-color: var(--fill-color);\n",
              "      border-top-color: var(--fill-color);\n",
              "    }\n",
              "    60% {\n",
              "      border-color: transparent;\n",
              "      border-right-color: var(--fill-color);\n",
              "    }\n",
              "    80% {\n",
              "      border-color: transparent;\n",
              "      border-right-color: var(--fill-color);\n",
              "      border-bottom-color: var(--fill-color);\n",
              "    }\n",
              "    90% {\n",
              "      border-color: transparent;\n",
              "      border-bottom-color: var(--fill-color);\n",
              "    }\n",
              "  }\n",
              "</style>\n",
              "\n",
              "  <script>\n",
              "    async function quickchart(key) {\n",
              "      const quickchartButtonEl =\n",
              "        document.querySelector('#' + key + ' button');\n",
              "      quickchartButtonEl.disabled = true;  // To prevent multiple clicks.\n",
              "      quickchartButtonEl.classList.add('colab-df-spinner');\n",
              "      try {\n",
              "        const charts = await google.colab.kernel.invokeFunction(\n",
              "            'suggestCharts', [key], {});\n",
              "      } catch (error) {\n",
              "        console.error('Error during call to suggestCharts:', error);\n",
              "      }\n",
              "      quickchartButtonEl.classList.remove('colab-df-spinner');\n",
              "      quickchartButtonEl.classList.add('colab-df-quickchart-complete');\n",
              "    }\n",
              "    (() => {\n",
              "      let quickchartButtonEl =\n",
              "        document.querySelector('#df-1ad885f8-b574-4e93-9a04-0bb57c6cfb31 button');\n",
              "      quickchartButtonEl.style.display =\n",
              "        google.colab.kernel.accessAllowed ? 'block' : 'none';\n",
              "    })();\n",
              "  </script>\n",
              "</div>\n",
              "\n",
              "    </div>\n",
              "  </div>\n"
            ],
            "application/vnd.google.colaboratory.intrinsic+json": {
              "type": "dataframe",
              "variable_name": "temporary_df",
              "summary": "{\n  \"name\": \"temporary_df\",\n  \"rows\": 50000,\n  \"fields\": [\n    {\n      \"column\": \"Student Age\",\n      \"properties\": {\n        \"dtype\": \"number\",\n        \"std\": 1.4158200975162665,\n        \"min\": 14.0,\n        \"max\": 18.0,\n        \"num_unique_values\": 5,\n        \"samples\": [\n          14.0,\n          15.0,\n          16.0\n        ],\n        \"semantic_type\": \"\",\n        \"description\": \"\"\n      }\n    },\n    {\n      \"column\": \"Student year\",\n      \"properties\": {\n        \"dtype\": \"number\",\n        \"std\": 1.1218991334132098,\n        \"min\": 0.0,\n        \"max\": 3.0,\n        \"num_unique_values\": 4,\n        \"samples\": [\n          0.0,\n          2.0,\n          3.0\n        ],\n        \"semantic_type\": \"\",\n        \"description\": \"\"\n      }\n    },\n    {\n      \"column\": \"Father Degree\",\n      \"properties\": {\n        \"dtype\": \"number\",\n        \"std\": 1.1702880735457837,\n        \"min\": 0.0,\n        \"max\": 3.0,\n        \"num_unique_values\": 4,\n        \"samples\": [\n          0.0,\n          2.0,\n          1.0\n        ],\n        \"semantic_type\": \"\",\n        \"description\": \"\"\n      }\n    },\n    {\n      \"column\": \"Mother Degree\",\n      \"properties\": {\n        \"dtype\": \"number\",\n        \"std\": 1.1648786084581726,\n        \"min\": 0.0,\n        \"max\": 3.0,\n        \"num_unique_values\": 4,\n        \"samples\": [\n          3.0,\n          2.0,\n          1.0\n        ],\n        \"semantic_type\": \"\",\n        \"description\": \"\"\n      }\n    },\n    {\n      \"column\": \"Education Type\",\n      \"properties\": {\n        \"dtype\": \"number\",\n        \"std\": 0.8187666077553233,\n        \"min\": 0.0,\n        \"max\": 2.0,\n        \"num_unique_values\": 3,\n        \"samples\": [\n          0.0,\n          2.0,\n          1.0\n        ],\n        \"semantic_type\": \"\",\n        \"description\": \"\"\n      }\n    },\n    {\n      \"column\": \"Subject_1\",\n      \"properties\": {\n        \"dtype\": \"number\",\n        \"std\": 13.782458921048704,\n        \"min\": 40.36424012642008,\n        \"max\": 100.0,\n        \"num_unique_values\": 47157,\n        \"samples\": [\n          74.78649969685775,\n          65.99462891118799,\n          75.60344085733678\n        ],\n        \"semantic_type\": \"\",\n        \"description\": \"\"\n      }\n    },\n    {\n      \"column\": \"Subject_2\",\n      \"properties\": {\n        \"dtype\": \"number\",\n        \"std\": 13.800336471313061,\n        \"min\": 40.23579831447156,\n        \"max\": 100.0,\n        \"num_unique_values\": 47096,\n        \"samples\": [\n          65.44298214447528,\n          62.95171830032366,\n          79.04461538845331\n        ],\n        \"semantic_type\": \"\",\n        \"description\": \"\"\n      }\n    },\n    {\n      \"column\": \"Subject_3\",\n      \"properties\": {\n        \"dtype\": \"number\",\n        \"std\": 13.773622409675509,\n        \"min\": 40.379515846718014,\n        \"max\": 100.0,\n        \"num_unique_values\": 47140,\n        \"samples\": [\n          72.19842823195447,\n          82.38179423533215,\n          80.53743335766653\n        ],\n        \"semantic_type\": \"\",\n        \"description\": \"\"\n      }\n    },\n    {\n      \"column\": \"Subject_4\",\n      \"properties\": {\n        \"dtype\": \"number\",\n        \"std\": 13.783770723778382,\n        \"min\": 40.145084462238096,\n        \"max\": 100.0,\n        \"num_unique_values\": 47096,\n        \"samples\": [\n          61.20652716535004,\n          41.727118305394,\n          74.3363104364275\n        ],\n        \"semantic_type\": \"\",\n        \"description\": \"\"\n      }\n    },\n    {\n      \"column\": \"Subject_5\",\n      \"properties\": {\n        \"dtype\": \"number\",\n        \"std\": 13.763339950092128,\n        \"min\": 40.3826086710649,\n        \"max\": 100.0,\n        \"num_unique_values\": 47119,\n        \"samples\": [\n          58.53047339739004,\n          63.52260826642324,\n          54.85037002551682\n        ],\n        \"semantic_type\": \"\",\n        \"description\": \"\"\n      }\n    },\n    {\n      \"column\": \"Subject_6\",\n      \"properties\": {\n        \"dtype\": \"number\",\n        \"std\": 13.831938656885976,\n        \"min\": 39.80113734033783,\n        \"max\": 100.0,\n        \"num_unique_values\": 47080,\n        \"samples\": [\n          77.60838448958485,\n          71.03654850297522,\n          81.31411865635219\n        ],\n        \"semantic_type\": \"\",\n        \"description\": \"\"\n      }\n    },\n    {\n      \"column\": \"Subject_7\",\n      \"properties\": {\n        \"dtype\": \"number\",\n        \"std\": 13.76857363993597,\n        \"min\": 39.92516461479316,\n        \"max\": 100.0,\n        \"num_unique_values\": 47147,\n        \"samples\": [\n          59.20725004582095,\n          91.83995665809536,\n          70.57326848323534\n        ],\n        \"semantic_type\": \"\",\n        \"description\": \"\"\n      }\n    },\n    {\n      \"column\": \"Subject_8\",\n      \"properties\": {\n        \"dtype\": \"number\",\n        \"std\": 13.796220853445714,\n        \"min\": 39.90211959423966,\n        \"max\": 100.0,\n        \"num_unique_values\": 47085,\n        \"samples\": [\n          51.97096405982971,\n          70.67243386643295,\n          76.63299356384402\n        ],\n        \"semantic_type\": \"\",\n        \"description\": \"\"\n      }\n    },\n    {\n      \"column\": \"Subject_9\",\n      \"properties\": {\n        \"dtype\": \"number\",\n        \"std\": 13.792220267681435,\n        \"min\": 39.91604184701011,\n        \"max\": 100.0,\n        \"num_unique_values\": 47179,\n        \"samples\": [\n          60.73195315791583,\n          53.85282235313948,\n          88.0792615651898\n        ],\n        \"semantic_type\": \"\",\n        \"description\": \"\"\n      }\n    },\n    {\n      \"column\": \"Subject_10\",\n      \"properties\": {\n        \"dtype\": \"number\",\n        \"std\": 13.80660578592998,\n        \"min\": 40.21803564187857,\n        \"max\": 100.0,\n        \"num_unique_values\": 47097,\n        \"samples\": [\n          55.59164540866791,\n          83.45311848964131,\n          82.64755199884225\n        ],\n        \"semantic_type\": \"\",\n        \"description\": \"\"\n      }\n    },\n    {\n      \"column\": \"Mean Subject Score\",\n      \"properties\": {\n        \"dtype\": \"number\",\n        \"std\": 4.374600082068527,\n        \"min\": 56.82379729036954,\n        \"max\": 91.54827531518374,\n        \"num_unique_values\": 50000,\n        \"samples\": [\n          75.69170926672349,\n          77.57299453938404,\n          73.79006146696554\n        ],\n        \"semantic_type\": \"\",\n        \"description\": \"\"\n      }\n    }\n  ]\n}"
            }
          },
          "metadata": {},
          "execution_count": 192
        }
      ],
      "source": [
        "temporary_df.head(10) # describe dataset"
      ]
    },
    {
      "cell_type": "markdown",
      "metadata": {
        "id": "YlDMPvlnq9rf"
      },
      "source": [
        "# **LOAD**"
      ]
    },
    {
      "cell_type": "markdown",
      "metadata": {
        "id": "UmcYhPunrEch"
      },
      "source": [
        "Removing multiple subject scores and replace it with Mean Subject Score"
      ]
    },
    {
      "cell_type": "code",
      "execution_count": 193,
      "metadata": {
        "id": "9uFo3UW-jiJv",
        "colab": {
          "base_uri": "https://localhost:8080/"
        },
        "outputId": "c5248fb8-48ea-4d1c-b130-f90c9a412423"
      },
      "outputs": [
        {
          "output_type": "stream",
          "name": "stdout",
          "text": [
            "['Student Age', 'Student year', 'Father Degree', 'Mother Degree', 'Mean Subject Score']\n"
          ]
        }
      ],
      "source": [
        "# Array to store variables that need to be skip\n",
        "columns_to_skip = []\n",
        "\n",
        "for i in range((temporary_df.shape[1])):\n",
        "  if f\"Subject_{i+1}\" in temporary_df.columns:\n",
        "    columns_to_skip.append(f\"Subject_{i+1}\")\n",
        "  elif \"Education Type\" in temporary_df.columns:\n",
        "    columns_to_skip.append(\"Education Type\")\n",
        "  else:\n",
        "    break\n",
        "\n",
        "test2 = temporary_df.drop(columns=columns_to_skip).columns.tolist()\n",
        "print(test2)"
      ]
    },
    {
      "cell_type": "markdown",
      "metadata": {
        "id": "z6Nr0KJTrt1g"
      },
      "source": [
        "# Applying for a Logistic Regression Model\n",
        "We use Logistic Regression as it is more suitable for the classication Problems"
      ]
    },
    {
      "cell_type": "code",
      "execution_count": 194,
      "metadata": {
        "id": "hCo_I-LnhlJf"
      },
      "outputs": [],
      "source": [
        "# import all necessary libraries\n",
        "from sklearn.model_selection import train_test_split\n",
        "from sklearn.linear_model import LogisticRegression\n",
        "from sklearn.metrics import accuracy_score, confusion_matrix, classification_report"
      ]
    },
    {
      "cell_type": "markdown",
      "metadata": {
        "id": "_PfCHrDJsDdU"
      },
      "source": [
        "**The X contain Input Variable and Y contain Target variable**"
      ]
    },
    {
      "cell_type": "code",
      "execution_count": 195,
      "metadata": {
        "id": "dsyYEladiOsy"
      },
      "outputs": [],
      "source": [
        "X = temporary_df[test2]\n",
        "y = temporary_df['Education Type']"
      ]
    },
    {
      "cell_type": "markdown",
      "metadata": {
        "id": "4_zamBUSsgaZ"
      },
      "source": [
        "**Split variables into Train and Test**"
      ]
    },
    {
      "cell_type": "code",
      "execution_count": 196,
      "metadata": {
        "id": "VzyrPHcZtgIR"
      },
      "outputs": [],
      "source": [
        "X_train, X_test, y_train, y_test = train_test_split(X,\n",
        "                            y, test_size=0.2, random_state=42)"
      ]
    },
    {
      "cell_type": "markdown",
      "metadata": {
        "id": "Mw54cT6Ty0ny"
      },
      "source": [
        "# Preparing a model"
      ]
    },
    {
      "cell_type": "code",
      "execution_count": 197,
      "metadata": {
        "id": "N7dyXwLUtkTw",
        "colab": {
          "base_uri": "https://localhost:8080/",
          "height": 80
        },
        "outputId": "665e70fc-f7cb-4908-d929-5684ffc397d7"
      },
      "outputs": [
        {
          "output_type": "execute_result",
          "data": {
            "text/plain": [
              "LogisticRegression()"
            ],
            "text/html": [
              "<style>#sk-container-id-7 {\n",
              "  /* Definition of color scheme common for light and dark mode */\n",
              "  --sklearn-color-text: black;\n",
              "  --sklearn-color-line: gray;\n",
              "  /* Definition of color scheme for unfitted estimators */\n",
              "  --sklearn-color-unfitted-level-0: #fff5e6;\n",
              "  --sklearn-color-unfitted-level-1: #f6e4d2;\n",
              "  --sklearn-color-unfitted-level-2: #ffe0b3;\n",
              "  --sklearn-color-unfitted-level-3: chocolate;\n",
              "  /* Definition of color scheme for fitted estimators */\n",
              "  --sklearn-color-fitted-level-0: #f0f8ff;\n",
              "  --sklearn-color-fitted-level-1: #d4ebff;\n",
              "  --sklearn-color-fitted-level-2: #b3dbfd;\n",
              "  --sklearn-color-fitted-level-3: cornflowerblue;\n",
              "\n",
              "  /* Specific color for light theme */\n",
              "  --sklearn-color-text-on-default-background: var(--sg-text-color, var(--theme-code-foreground, var(--jp-content-font-color1, black)));\n",
              "  --sklearn-color-background: var(--sg-background-color, var(--theme-background, var(--jp-layout-color0, white)));\n",
              "  --sklearn-color-border-box: var(--sg-text-color, var(--theme-code-foreground, var(--jp-content-font-color1, black)));\n",
              "  --sklearn-color-icon: #696969;\n",
              "\n",
              "  @media (prefers-color-scheme: dark) {\n",
              "    /* Redefinition of color scheme for dark theme */\n",
              "    --sklearn-color-text-on-default-background: var(--sg-text-color, var(--theme-code-foreground, var(--jp-content-font-color1, white)));\n",
              "    --sklearn-color-background: var(--sg-background-color, var(--theme-background, var(--jp-layout-color0, #111)));\n",
              "    --sklearn-color-border-box: var(--sg-text-color, var(--theme-code-foreground, var(--jp-content-font-color1, white)));\n",
              "    --sklearn-color-icon: #878787;\n",
              "  }\n",
              "}\n",
              "\n",
              "#sk-container-id-7 {\n",
              "  color: var(--sklearn-color-text);\n",
              "}\n",
              "\n",
              "#sk-container-id-7 pre {\n",
              "  padding: 0;\n",
              "}\n",
              "\n",
              "#sk-container-id-7 input.sk-hidden--visually {\n",
              "  border: 0;\n",
              "  clip: rect(1px 1px 1px 1px);\n",
              "  clip: rect(1px, 1px, 1px, 1px);\n",
              "  height: 1px;\n",
              "  margin: -1px;\n",
              "  overflow: hidden;\n",
              "  padding: 0;\n",
              "  position: absolute;\n",
              "  width: 1px;\n",
              "}\n",
              "\n",
              "#sk-container-id-7 div.sk-dashed-wrapped {\n",
              "  border: 1px dashed var(--sklearn-color-line);\n",
              "  margin: 0 0.4em 0.5em 0.4em;\n",
              "  box-sizing: border-box;\n",
              "  padding-bottom: 0.4em;\n",
              "  background-color: var(--sklearn-color-background);\n",
              "}\n",
              "\n",
              "#sk-container-id-7 div.sk-container {\n",
              "  /* jupyter's `normalize.less` sets `[hidden] { display: none; }`\n",
              "     but bootstrap.min.css set `[hidden] { display: none !important; }`\n",
              "     so we also need the `!important` here to be able to override the\n",
              "     default hidden behavior on the sphinx rendered scikit-learn.org.\n",
              "     See: https://github.com/scikit-learn/scikit-learn/issues/21755 */\n",
              "  display: inline-block !important;\n",
              "  position: relative;\n",
              "}\n",
              "\n",
              "#sk-container-id-7 div.sk-text-repr-fallback {\n",
              "  display: none;\n",
              "}\n",
              "\n",
              "div.sk-parallel-item,\n",
              "div.sk-serial,\n",
              "div.sk-item {\n",
              "  /* draw centered vertical line to link estimators */\n",
              "  background-image: linear-gradient(var(--sklearn-color-text-on-default-background), var(--sklearn-color-text-on-default-background));\n",
              "  background-size: 2px 100%;\n",
              "  background-repeat: no-repeat;\n",
              "  background-position: center center;\n",
              "}\n",
              "\n",
              "/* Parallel-specific style estimator block */\n",
              "\n",
              "#sk-container-id-7 div.sk-parallel-item::after {\n",
              "  content: \"\";\n",
              "  width: 100%;\n",
              "  border-bottom: 2px solid var(--sklearn-color-text-on-default-background);\n",
              "  flex-grow: 1;\n",
              "}\n",
              "\n",
              "#sk-container-id-7 div.sk-parallel {\n",
              "  display: flex;\n",
              "  align-items: stretch;\n",
              "  justify-content: center;\n",
              "  background-color: var(--sklearn-color-background);\n",
              "  position: relative;\n",
              "}\n",
              "\n",
              "#sk-container-id-7 div.sk-parallel-item {\n",
              "  display: flex;\n",
              "  flex-direction: column;\n",
              "}\n",
              "\n",
              "#sk-container-id-7 div.sk-parallel-item:first-child::after {\n",
              "  align-self: flex-end;\n",
              "  width: 50%;\n",
              "}\n",
              "\n",
              "#sk-container-id-7 div.sk-parallel-item:last-child::after {\n",
              "  align-self: flex-start;\n",
              "  width: 50%;\n",
              "}\n",
              "\n",
              "#sk-container-id-7 div.sk-parallel-item:only-child::after {\n",
              "  width: 0;\n",
              "}\n",
              "\n",
              "/* Serial-specific style estimator block */\n",
              "\n",
              "#sk-container-id-7 div.sk-serial {\n",
              "  display: flex;\n",
              "  flex-direction: column;\n",
              "  align-items: center;\n",
              "  background-color: var(--sklearn-color-background);\n",
              "  padding-right: 1em;\n",
              "  padding-left: 1em;\n",
              "}\n",
              "\n",
              "\n",
              "/* Toggleable style: style used for estimator/Pipeline/ColumnTransformer box that is\n",
              "clickable and can be expanded/collapsed.\n",
              "- Pipeline and ColumnTransformer use this feature and define the default style\n",
              "- Estimators will overwrite some part of the style using the `sk-estimator` class\n",
              "*/\n",
              "\n",
              "/* Pipeline and ColumnTransformer style (default) */\n",
              "\n",
              "#sk-container-id-7 div.sk-toggleable {\n",
              "  /* Default theme specific background. It is overwritten whether we have a\n",
              "  specific estimator or a Pipeline/ColumnTransformer */\n",
              "  background-color: var(--sklearn-color-background);\n",
              "}\n",
              "\n",
              "/* Toggleable label */\n",
              "#sk-container-id-7 label.sk-toggleable__label {\n",
              "  cursor: pointer;\n",
              "  display: block;\n",
              "  width: 100%;\n",
              "  margin-bottom: 0;\n",
              "  padding: 0.5em;\n",
              "  box-sizing: border-box;\n",
              "  text-align: center;\n",
              "}\n",
              "\n",
              "#sk-container-id-7 label.sk-toggleable__label-arrow:before {\n",
              "  /* Arrow on the left of the label */\n",
              "  content: \"▸\";\n",
              "  float: left;\n",
              "  margin-right: 0.25em;\n",
              "  color: var(--sklearn-color-icon);\n",
              "}\n",
              "\n",
              "#sk-container-id-7 label.sk-toggleable__label-arrow:hover:before {\n",
              "  color: var(--sklearn-color-text);\n",
              "}\n",
              "\n",
              "/* Toggleable content - dropdown */\n",
              "\n",
              "#sk-container-id-7 div.sk-toggleable__content {\n",
              "  max-height: 0;\n",
              "  max-width: 0;\n",
              "  overflow: hidden;\n",
              "  text-align: left;\n",
              "  /* unfitted */\n",
              "  background-color: var(--sklearn-color-unfitted-level-0);\n",
              "}\n",
              "\n",
              "#sk-container-id-7 div.sk-toggleable__content.fitted {\n",
              "  /* fitted */\n",
              "  background-color: var(--sklearn-color-fitted-level-0);\n",
              "}\n",
              "\n",
              "#sk-container-id-7 div.sk-toggleable__content pre {\n",
              "  margin: 0.2em;\n",
              "  border-radius: 0.25em;\n",
              "  color: var(--sklearn-color-text);\n",
              "  /* unfitted */\n",
              "  background-color: var(--sklearn-color-unfitted-level-0);\n",
              "}\n",
              "\n",
              "#sk-container-id-7 div.sk-toggleable__content.fitted pre {\n",
              "  /* unfitted */\n",
              "  background-color: var(--sklearn-color-fitted-level-0);\n",
              "}\n",
              "\n",
              "#sk-container-id-7 input.sk-toggleable__control:checked~div.sk-toggleable__content {\n",
              "  /* Expand drop-down */\n",
              "  max-height: 200px;\n",
              "  max-width: 100%;\n",
              "  overflow: auto;\n",
              "}\n",
              "\n",
              "#sk-container-id-7 input.sk-toggleable__control:checked~label.sk-toggleable__label-arrow:before {\n",
              "  content: \"▾\";\n",
              "}\n",
              "\n",
              "/* Pipeline/ColumnTransformer-specific style */\n",
              "\n",
              "#sk-container-id-7 div.sk-label input.sk-toggleable__control:checked~label.sk-toggleable__label {\n",
              "  color: var(--sklearn-color-text);\n",
              "  background-color: var(--sklearn-color-unfitted-level-2);\n",
              "}\n",
              "\n",
              "#sk-container-id-7 div.sk-label.fitted input.sk-toggleable__control:checked~label.sk-toggleable__label {\n",
              "  background-color: var(--sklearn-color-fitted-level-2);\n",
              "}\n",
              "\n",
              "/* Estimator-specific style */\n",
              "\n",
              "/* Colorize estimator box */\n",
              "#sk-container-id-7 div.sk-estimator input.sk-toggleable__control:checked~label.sk-toggleable__label {\n",
              "  /* unfitted */\n",
              "  background-color: var(--sklearn-color-unfitted-level-2);\n",
              "}\n",
              "\n",
              "#sk-container-id-7 div.sk-estimator.fitted input.sk-toggleable__control:checked~label.sk-toggleable__label {\n",
              "  /* fitted */\n",
              "  background-color: var(--sklearn-color-fitted-level-2);\n",
              "}\n",
              "\n",
              "#sk-container-id-7 div.sk-label label.sk-toggleable__label,\n",
              "#sk-container-id-7 div.sk-label label {\n",
              "  /* The background is the default theme color */\n",
              "  color: var(--sklearn-color-text-on-default-background);\n",
              "}\n",
              "\n",
              "/* On hover, darken the color of the background */\n",
              "#sk-container-id-7 div.sk-label:hover label.sk-toggleable__label {\n",
              "  color: var(--sklearn-color-text);\n",
              "  background-color: var(--sklearn-color-unfitted-level-2);\n",
              "}\n",
              "\n",
              "/* Label box, darken color on hover, fitted */\n",
              "#sk-container-id-7 div.sk-label.fitted:hover label.sk-toggleable__label.fitted {\n",
              "  color: var(--sklearn-color-text);\n",
              "  background-color: var(--sklearn-color-fitted-level-2);\n",
              "}\n",
              "\n",
              "/* Estimator label */\n",
              "\n",
              "#sk-container-id-7 div.sk-label label {\n",
              "  font-family: monospace;\n",
              "  font-weight: bold;\n",
              "  display: inline-block;\n",
              "  line-height: 1.2em;\n",
              "}\n",
              "\n",
              "#sk-container-id-7 div.sk-label-container {\n",
              "  text-align: center;\n",
              "}\n",
              "\n",
              "/* Estimator-specific */\n",
              "#sk-container-id-7 div.sk-estimator {\n",
              "  font-family: monospace;\n",
              "  border: 1px dotted var(--sklearn-color-border-box);\n",
              "  border-radius: 0.25em;\n",
              "  box-sizing: border-box;\n",
              "  margin-bottom: 0.5em;\n",
              "  /* unfitted */\n",
              "  background-color: var(--sklearn-color-unfitted-level-0);\n",
              "}\n",
              "\n",
              "#sk-container-id-7 div.sk-estimator.fitted {\n",
              "  /* fitted */\n",
              "  background-color: var(--sklearn-color-fitted-level-0);\n",
              "}\n",
              "\n",
              "/* on hover */\n",
              "#sk-container-id-7 div.sk-estimator:hover {\n",
              "  /* unfitted */\n",
              "  background-color: var(--sklearn-color-unfitted-level-2);\n",
              "}\n",
              "\n",
              "#sk-container-id-7 div.sk-estimator.fitted:hover {\n",
              "  /* fitted */\n",
              "  background-color: var(--sklearn-color-fitted-level-2);\n",
              "}\n",
              "\n",
              "/* Specification for estimator info (e.g. \"i\" and \"?\") */\n",
              "\n",
              "/* Common style for \"i\" and \"?\" */\n",
              "\n",
              ".sk-estimator-doc-link,\n",
              "a:link.sk-estimator-doc-link,\n",
              "a:visited.sk-estimator-doc-link {\n",
              "  float: right;\n",
              "  font-size: smaller;\n",
              "  line-height: 1em;\n",
              "  font-family: monospace;\n",
              "  background-color: var(--sklearn-color-background);\n",
              "  border-radius: 1em;\n",
              "  height: 1em;\n",
              "  width: 1em;\n",
              "  text-decoration: none !important;\n",
              "  margin-left: 1ex;\n",
              "  /* unfitted */\n",
              "  border: var(--sklearn-color-unfitted-level-1) 1pt solid;\n",
              "  color: var(--sklearn-color-unfitted-level-1);\n",
              "}\n",
              "\n",
              ".sk-estimator-doc-link.fitted,\n",
              "a:link.sk-estimator-doc-link.fitted,\n",
              "a:visited.sk-estimator-doc-link.fitted {\n",
              "  /* fitted */\n",
              "  border: var(--sklearn-color-fitted-level-1) 1pt solid;\n",
              "  color: var(--sklearn-color-fitted-level-1);\n",
              "}\n",
              "\n",
              "/* On hover */\n",
              "div.sk-estimator:hover .sk-estimator-doc-link:hover,\n",
              ".sk-estimator-doc-link:hover,\n",
              "div.sk-label-container:hover .sk-estimator-doc-link:hover,\n",
              ".sk-estimator-doc-link:hover {\n",
              "  /* unfitted */\n",
              "  background-color: var(--sklearn-color-unfitted-level-3);\n",
              "  color: var(--sklearn-color-background);\n",
              "  text-decoration: none;\n",
              "}\n",
              "\n",
              "div.sk-estimator.fitted:hover .sk-estimator-doc-link.fitted:hover,\n",
              ".sk-estimator-doc-link.fitted:hover,\n",
              "div.sk-label-container:hover .sk-estimator-doc-link.fitted:hover,\n",
              ".sk-estimator-doc-link.fitted:hover {\n",
              "  /* fitted */\n",
              "  background-color: var(--sklearn-color-fitted-level-3);\n",
              "  color: var(--sklearn-color-background);\n",
              "  text-decoration: none;\n",
              "}\n",
              "\n",
              "/* Span, style for the box shown on hovering the info icon */\n",
              ".sk-estimator-doc-link span {\n",
              "  display: none;\n",
              "  z-index: 9999;\n",
              "  position: relative;\n",
              "  font-weight: normal;\n",
              "  right: .2ex;\n",
              "  padding: .5ex;\n",
              "  margin: .5ex;\n",
              "  width: min-content;\n",
              "  min-width: 20ex;\n",
              "  max-width: 50ex;\n",
              "  color: var(--sklearn-color-text);\n",
              "  box-shadow: 2pt 2pt 4pt #999;\n",
              "  /* unfitted */\n",
              "  background: var(--sklearn-color-unfitted-level-0);\n",
              "  border: .5pt solid var(--sklearn-color-unfitted-level-3);\n",
              "}\n",
              "\n",
              ".sk-estimator-doc-link.fitted span {\n",
              "  /* fitted */\n",
              "  background: var(--sklearn-color-fitted-level-0);\n",
              "  border: var(--sklearn-color-fitted-level-3);\n",
              "}\n",
              "\n",
              ".sk-estimator-doc-link:hover span {\n",
              "  display: block;\n",
              "}\n",
              "\n",
              "/* \"?\"-specific style due to the `<a>` HTML tag */\n",
              "\n",
              "#sk-container-id-7 a.estimator_doc_link {\n",
              "  float: right;\n",
              "  font-size: 1rem;\n",
              "  line-height: 1em;\n",
              "  font-family: monospace;\n",
              "  background-color: var(--sklearn-color-background);\n",
              "  border-radius: 1rem;\n",
              "  height: 1rem;\n",
              "  width: 1rem;\n",
              "  text-decoration: none;\n",
              "  /* unfitted */\n",
              "  color: var(--sklearn-color-unfitted-level-1);\n",
              "  border: var(--sklearn-color-unfitted-level-1) 1pt solid;\n",
              "}\n",
              "\n",
              "#sk-container-id-7 a.estimator_doc_link.fitted {\n",
              "  /* fitted */\n",
              "  border: var(--sklearn-color-fitted-level-1) 1pt solid;\n",
              "  color: var(--sklearn-color-fitted-level-1);\n",
              "}\n",
              "\n",
              "/* On hover */\n",
              "#sk-container-id-7 a.estimator_doc_link:hover {\n",
              "  /* unfitted */\n",
              "  background-color: var(--sklearn-color-unfitted-level-3);\n",
              "  color: var(--sklearn-color-background);\n",
              "  text-decoration: none;\n",
              "}\n",
              "\n",
              "#sk-container-id-7 a.estimator_doc_link.fitted:hover {\n",
              "  /* fitted */\n",
              "  background-color: var(--sklearn-color-fitted-level-3);\n",
              "}\n",
              "</style><div id=\"sk-container-id-7\" class=\"sk-top-container\"><div class=\"sk-text-repr-fallback\"><pre>LogisticRegression()</pre><b>In a Jupyter environment, please rerun this cell to show the HTML representation or trust the notebook. <br />On GitHub, the HTML representation is unable to render, please try loading this page with nbviewer.org.</b></div><div class=\"sk-container\" hidden><div class=\"sk-item\"><div class=\"sk-estimator fitted sk-toggleable\"><input class=\"sk-toggleable__control sk-hidden--visually\" id=\"sk-estimator-id-7\" type=\"checkbox\" checked><label for=\"sk-estimator-id-7\" class=\"sk-toggleable__label fitted sk-toggleable__label-arrow fitted\">&nbsp;&nbsp;LogisticRegression<a class=\"sk-estimator-doc-link fitted\" rel=\"noreferrer\" target=\"_blank\" href=\"https://scikit-learn.org/1.5/modules/generated/sklearn.linear_model.LogisticRegression.html\">?<span>Documentation for LogisticRegression</span></a><span class=\"sk-estimator-doc-link fitted\">i<span>Fitted</span></span></label><div class=\"sk-toggleable__content fitted\"><pre>LogisticRegression()</pre></div> </div></div></div></div>"
            ]
          },
          "metadata": {},
          "execution_count": 197
        }
      ],
      "source": [
        "# Create the model\n",
        "model = LogisticRegression()\n",
        "\n",
        "# Fit the model\n",
        "model.fit(X_train, y_train)"
      ]
    },
    {
      "cell_type": "markdown",
      "metadata": {
        "id": "fnzLBypDtpXF"
      },
      "source": [
        "**For Predicting Accuracy model**"
      ]
    },
    {
      "cell_type": "code",
      "execution_count": 198,
      "metadata": {
        "id": "_iKB05JqtmHr"
      },
      "outputs": [],
      "source": [
        "# Make predictions\n",
        "y_pred = model.predict(X_test)"
      ]
    },
    {
      "cell_type": "code",
      "execution_count": 199,
      "metadata": {
        "id": "Vo8cPvF2s0Ia",
        "colab": {
          "base_uri": "https://localhost:8080/"
        },
        "outputId": "fe97b3d8-1bbe-44b5-85d6-31f05b8b36fb"
      },
      "outputs": [
        {
          "output_type": "stream",
          "name": "stdout",
          "text": [
            "Accuracy: 0.34\n"
          ]
        }
      ],
      "source": [
        "accuracy = accuracy_score(y_test, y_pred)\n",
        "print(f'Accuracy: {accuracy:.2f}')"
      ]
    },
    {
      "cell_type": "markdown",
      "metadata": {
        "id": "UFI9CF-Dt6Wp"
      },
      "source": [
        "**For evaluating Confusion Matrix**"
      ]
    },
    {
      "cell_type": "code",
      "execution_count": 200,
      "metadata": {
        "id": "i6f3K8Rds5uT",
        "colab": {
          "base_uri": "https://localhost:8080/"
        },
        "outputId": "ffe5de8e-b2cb-4ae1-b9ba-244a34e3124a"
      },
      "outputs": [
        {
          "output_type": "stream",
          "name": "stdout",
          "text": [
            "\n",
            "Confusion Matrix: [[2559  128  721]\n",
            " [2482  130  732]\n",
            " [2375  127  746]]\n"
          ]
        }
      ],
      "source": [
        "conf_matrix = confusion_matrix(y_test, y_pred)\n",
        "print(f'\\nConfusion Matrix: {conf_matrix}')"
      ]
    },
    {
      "cell_type": "markdown",
      "metadata": {
        "id": "So8m7-Q0uDvw"
      },
      "source": [
        "**For checking Detailed Parameters**"
      ]
    },
    {
      "cell_type": "code",
      "execution_count": 201,
      "metadata": {
        "id": "IQ-1llEht1fD",
        "colab": {
          "base_uri": "https://localhost:8080/"
        },
        "outputId": "cec1c00d-8bc3-4f1f-8a26-e4c69c007793"
      },
      "outputs": [
        {
          "output_type": "stream",
          "name": "stdout",
          "text": [
            "\n",
            "Classification Report: {class_report}\n"
          ]
        }
      ],
      "source": [
        "class_report = classification_report(y_test, y_pred)\n",
        "print('\\nClassification Report: {class_report}')"
      ]
    },
    {
      "cell_type": "markdown",
      "metadata": {
        "id": "Va45n0rZuQx1"
      },
      "source": [
        "**For Making Predictions across Input Variable**"
      ]
    },
    {
      "cell_type": "code",
      "execution_count": 202,
      "metadata": {
        "id": "DJQ4kG_0-zk-",
        "colab": {
          "base_uri": "https://localhost:8080/"
        },
        "outputId": "4ce49a8c-3954-45bd-a1c5-8660a746d253"
      },
      "outputs": [
        {
          "output_type": "stream",
          "name": "stdout",
          "text": [
            "Predictions: [0.]\n"
          ]
        },
        {
          "output_type": "stream",
          "name": "stderr",
          "text": [
            "/usr/local/lib/python3.10/dist-packages/sklearn/base.py:493: UserWarning: X does not have valid feature names, but LogisticRegression was fitted with feature names\n",
            "  warnings.warn(\n"
          ]
        }
      ],
      "source": [
        "# Make predictions\n",
        "predictions = model.predict([[18.0, 3.0, 1.0, 1.0, 71.894448]])\n",
        "print(f'Predictions: {predictions}')"
      ]
    },
    {
      "cell_type": "code",
      "execution_count": 203,
      "metadata": {
        "id": "sHhJZoPiA6Wu",
        "colab": {
          "base_uri": "https://localhost:8080/"
        },
        "outputId": "b4852f13-a4c6-4e53-f9e7-223dbd73a7aa"
      },
      "outputs": [
        {
          "output_type": "execute_result",
          "data": {
            "text/plain": [
              "numpy.ndarray"
            ]
          },
          "metadata": {},
          "execution_count": 203
        }
      ],
      "source": [
        "type(predictions) # check datatype"
      ]
    },
    {
      "cell_type": "markdown",
      "metadata": {
        "id": "P_Xb88IA5BGC"
      },
      "source": [
        "**Decode The Predicted Value**"
      ]
    },
    {
      "cell_type": "code",
      "execution_count": 204,
      "metadata": {
        "id": "bz5vF8V5_w9y",
        "colab": {
          "base_uri": "https://localhost:8080/"
        },
        "outputId": "e56ca0ba-c6a3-47d7-fd77-89fe3a063128"
      },
      "outputs": [
        {
          "output_type": "stream",
          "name": "stdout",
          "text": [
            "Decoded Target: ['IB']\n"
          ]
        }
      ],
      "source": [
        "decoded_target = le.inverse_transform([int(predictions[0])])\n",
        "print(f'Decoded Target: {decoded_target}')"
      ]
    },
    {
      "cell_type": "markdown",
      "metadata": {
        "id": "sPO92rRdvBaC"
      },
      "source": [
        "# Applying Decision Tree Algorithm\n",
        "The Decision Tree Algorithm focuses on classification problems in detail/depth"
      ]
    },
    {
      "cell_type": "code",
      "execution_count": 205,
      "metadata": {
        "id": "v2fOmt6jEip7"
      },
      "outputs": [],
      "source": [
        "from sklearn.tree import DecisionTreeClassifier"
      ]
    },
    {
      "cell_type": "markdown",
      "metadata": {
        "id": "xPrhpl_rvXEI"
      },
      "source": [
        "**Set Input (X1) and Target (y1) variable**"
      ]
    },
    {
      "cell_type": "code",
      "execution_count": 206,
      "metadata": {
        "id": "pfDAarvJLrSh"
      },
      "outputs": [],
      "source": [
        "X1 = temporary_df[test2]\n",
        "y1 = temporary_df['Education Type']\n",
        "\n",
        "y1_encoded = le.fit_transform(y1)"
      ]
    },
    {
      "cell_type": "markdown",
      "metadata": {
        "id": "zXW9CwdFxzSL"
      },
      "source": [
        "**Split the variables into Train/Test**"
      ]
    },
    {
      "cell_type": "code",
      "execution_count": 207,
      "metadata": {
        "id": "pQzV3_P_Mun5"
      },
      "outputs": [],
      "source": [
        "# Split the data into training and testing sets\n",
        "X1_train, X1_test, y1_train, y1_test = train_test_split(X1, y1_encoded,\n",
        "                                            test_size=0.2, random_state=42)"
      ]
    },
    {
      "cell_type": "markdown",
      "metadata": {
        "id": "xCfP3-VPvhV_"
      },
      "source": [
        "**Apply model and see insights**"
      ]
    },
    {
      "cell_type": "code",
      "execution_count": 208,
      "metadata": {
        "id": "GzdMZYIWM2c1"
      },
      "outputs": [],
      "source": [
        "# Create the Decision Tree model\n",
        "model1 = DecisionTreeClassifier(random_state=42)\n",
        "\n",
        "# Fit the model\n",
        "model1.fit(X1_train, y1_train)\n",
        "\n",
        "# Make predictions\n",
        "y1_pred = model1.predict(X1_test)"
      ]
    },
    {
      "cell_type": "markdown",
      "metadata": {
        "id": "PO1bl4luvn61"
      },
      "source": [
        "**For predicting Accuracy**"
      ]
    },
    {
      "cell_type": "code",
      "execution_count": 209,
      "metadata": {
        "id": "l4xGk2TQPoxZ",
        "colab": {
          "base_uri": "https://localhost:8080/"
        },
        "outputId": "103f371e-7ac6-4ef0-9af5-e88021e71bc3"
      },
      "outputs": [
        {
          "output_type": "stream",
          "name": "stdout",
          "text": [
            "Accuracy: 0.33\n"
          ]
        }
      ],
      "source": [
        "accuracy1 = accuracy_score(y1_test, y1_pred)\n",
        "print(f'Accuracy: {accuracy1:.2f}')"
      ]
    },
    {
      "cell_type": "markdown",
      "metadata": {
        "id": "col05mYlv2i3"
      },
      "source": [
        "**For predicting Confusion Matrix**"
      ]
    },
    {
      "cell_type": "code",
      "execution_count": 210,
      "metadata": {
        "id": "torxTCiGP0fz",
        "colab": {
          "base_uri": "https://localhost:8080/"
        },
        "outputId": "96cf1182-6879-44fb-ffe9-4c6f95722baa"
      },
      "outputs": [
        {
          "output_type": "stream",
          "name": "stdout",
          "text": [
            "\n",
            "Confusion Matrix: [[1173 1082 1153]\n",
            " [1145 1092 1107]\n",
            " [1130 1036 1082]]\n"
          ]
        }
      ],
      "source": [
        "conf_matrix1 = confusion_matrix(y1_test, y1_pred)\n",
        "print(f'\\nConfusion Matrix: {conf_matrix1}')"
      ]
    },
    {
      "cell_type": "markdown",
      "metadata": {
        "id": "_h4ofcZsv_tj"
      },
      "source": [
        "**For predicting Detailed Parameters**"
      ]
    },
    {
      "cell_type": "code",
      "execution_count": 211,
      "metadata": {
        "id": "Wa9OTiJlP-2-",
        "colab": {
          "base_uri": "https://localhost:8080/"
        },
        "outputId": "f6db7294-5b89-485d-851e-fe624752df2c"
      },
      "outputs": [
        {
          "output_type": "stream",
          "name": "stdout",
          "text": [
            "\n",
            "Classification Report:               precision    recall  f1-score   support\n",
            "\n",
            "           0       0.34      0.34      0.34      3408\n",
            "           1       0.34      0.33      0.33      3344\n",
            "           2       0.32      0.33      0.33      3248\n",
            "\n",
            "    accuracy                           0.33     10000\n",
            "   macro avg       0.33      0.33      0.33     10000\n",
            "weighted avg       0.33      0.33      0.33     10000\n",
            "\n"
          ]
        }
      ],
      "source": [
        "class_report1 = classification_report(y1_test, y1_pred)\n",
        "print(f'\\nClassification Report: {class_report1}')"
      ]
    },
    {
      "cell_type": "markdown",
      "metadata": {
        "id": "4ovS2tXwyAi3"
      },
      "source": [
        "**To check variable names in a list due to the better understanding**"
      ]
    },
    {
      "cell_type": "code",
      "execution_count": 212,
      "metadata": {
        "id": "lyDqggVAQUZn",
        "colab": {
          "base_uri": "https://localhost:8080/"
        },
        "outputId": "e8c6aaec-15eb-41e3-a48d-e128f63a1500"
      },
      "outputs": [
        {
          "output_type": "stream",
          "name": "stdout",
          "text": [
            "['Student Age', 'Student year', 'Father Degree', 'Mother Degree', 'Education Type', 'Subject_1', 'Subject_2', 'Subject_3', 'Subject_4', 'Subject_5', 'Subject_6', 'Subject_7', 'Subject_8', 'Subject_9', 'Subject_10', 'Mean Subject Score']\n"
          ]
        }
      ],
      "source": [
        "# checking Variable names in a list\n",
        "print(temporary_df.columns.tolist())"
      ]
    },
    {
      "cell_type": "markdown",
      "metadata": {
        "id": "ghLCUAM5J2A3"
      },
      "source": [
        "Now, we previously implemented classification algorithms and find that there is no appropiate accuracy achieved.\n",
        "\n",
        "Now, we are using Regression Algorithms and check response."
      ]
    },
    {
      "cell_type": "markdown",
      "metadata": {
        "id": "ahpfpUBPKT9u"
      },
      "source": [
        "# Applying XGBoost Algorithm\n",
        "Now, we are using XGBoost Algorithm to check accuracy."
      ]
    },
    {
      "cell_type": "code",
      "execution_count": 213,
      "metadata": {
        "id": "9FpRj9R3Hvol"
      },
      "outputs": [],
      "source": [
        "#import necessary libraries\n",
        "import xgboost as xgb"
      ]
    },
    {
      "cell_type": "markdown",
      "metadata": {
        "id": "qXlgtK8yQuD8"
      },
      "source": [
        "**Setting up Input (X) and Output (y) variables**"
      ]
    },
    {
      "cell_type": "code",
      "execution_count": 214,
      "metadata": {
        "id": "S3oltlOmKpeq"
      },
      "outputs": [],
      "source": [
        "# Prepare your features and target\n",
        "X2 = temporary_df[test2]\n",
        "y2 = temporary_df['Education Type']"
      ]
    },
    {
      "cell_type": "markdown",
      "metadata": {
        "id": "1fhreBXHQ4xL"
      },
      "source": [
        "**Splitting the variables**"
      ]
    },
    {
      "cell_type": "code",
      "execution_count": 215,
      "metadata": {
        "id": "pJ0ayl5MH7YP"
      },
      "outputs": [],
      "source": [
        "# Split the data into training and testing sets\n",
        "X2_train, X2_test, y2_train, y2_test = train_test_split(X2,\n",
        "                                  y2, test_size=0.2, random_state=42)"
      ]
    },
    {
      "cell_type": "markdown",
      "metadata": {
        "id": "qW1RjI_dRDpp"
      },
      "source": [
        "# Applying Model"
      ]
    },
    {
      "cell_type": "code",
      "execution_count": 216,
      "metadata": {
        "id": "sT9Z3MrFK31b",
        "colab": {
          "base_uri": "https://localhost:8080/",
          "height": 323
        },
        "outputId": "85c61bc2-fc32-4b4a-d621-25064f85ea29"
      },
      "outputs": [
        {
          "output_type": "stream",
          "name": "stderr",
          "text": [
            "/usr/local/lib/python3.10/dist-packages/xgboost/core.py:158: UserWarning: [00:34:12] WARNING: /workspace/src/learner.cc:740: \n",
            "Parameters: { \"use_label_encoder\" } are not used.\n",
            "\n",
            "  warnings.warn(smsg, UserWarning)\n"
          ]
        },
        {
          "output_type": "execute_result",
          "data": {
            "text/plain": [
              "XGBClassifier(base_score=None, booster=None, callbacks=None,\n",
              "              colsample_bylevel=None, colsample_bynode=None,\n",
              "              colsample_bytree=None, device=None, early_stopping_rounds=None,\n",
              "              enable_categorical=False, eval_metric='mlogloss',\n",
              "              feature_types=None, gamma=None, grow_policy=None,\n",
              "              importance_type=None, interaction_constraints=None,\n",
              "              learning_rate=None, max_bin=None, max_cat_threshold=None,\n",
              "              max_cat_to_onehot=None, max_delta_step=None, max_depth=None,\n",
              "              max_leaves=None, min_child_weight=None, missing=nan,\n",
              "              monotone_constraints=None, multi_strategy=None, n_estimators=None,\n",
              "              n_jobs=None, num_parallel_tree=None, objective='multi:softprob', ...)"
            ],
            "text/html": [
              "<style>#sk-container-id-8 {\n",
              "  /* Definition of color scheme common for light and dark mode */\n",
              "  --sklearn-color-text: black;\n",
              "  --sklearn-color-line: gray;\n",
              "  /* Definition of color scheme for unfitted estimators */\n",
              "  --sklearn-color-unfitted-level-0: #fff5e6;\n",
              "  --sklearn-color-unfitted-level-1: #f6e4d2;\n",
              "  --sklearn-color-unfitted-level-2: #ffe0b3;\n",
              "  --sklearn-color-unfitted-level-3: chocolate;\n",
              "  /* Definition of color scheme for fitted estimators */\n",
              "  --sklearn-color-fitted-level-0: #f0f8ff;\n",
              "  --sklearn-color-fitted-level-1: #d4ebff;\n",
              "  --sklearn-color-fitted-level-2: #b3dbfd;\n",
              "  --sklearn-color-fitted-level-3: cornflowerblue;\n",
              "\n",
              "  /* Specific color for light theme */\n",
              "  --sklearn-color-text-on-default-background: var(--sg-text-color, var(--theme-code-foreground, var(--jp-content-font-color1, black)));\n",
              "  --sklearn-color-background: var(--sg-background-color, var(--theme-background, var(--jp-layout-color0, white)));\n",
              "  --sklearn-color-border-box: var(--sg-text-color, var(--theme-code-foreground, var(--jp-content-font-color1, black)));\n",
              "  --sklearn-color-icon: #696969;\n",
              "\n",
              "  @media (prefers-color-scheme: dark) {\n",
              "    /* Redefinition of color scheme for dark theme */\n",
              "    --sklearn-color-text-on-default-background: var(--sg-text-color, var(--theme-code-foreground, var(--jp-content-font-color1, white)));\n",
              "    --sklearn-color-background: var(--sg-background-color, var(--theme-background, var(--jp-layout-color0, #111)));\n",
              "    --sklearn-color-border-box: var(--sg-text-color, var(--theme-code-foreground, var(--jp-content-font-color1, white)));\n",
              "    --sklearn-color-icon: #878787;\n",
              "  }\n",
              "}\n",
              "\n",
              "#sk-container-id-8 {\n",
              "  color: var(--sklearn-color-text);\n",
              "}\n",
              "\n",
              "#sk-container-id-8 pre {\n",
              "  padding: 0;\n",
              "}\n",
              "\n",
              "#sk-container-id-8 input.sk-hidden--visually {\n",
              "  border: 0;\n",
              "  clip: rect(1px 1px 1px 1px);\n",
              "  clip: rect(1px, 1px, 1px, 1px);\n",
              "  height: 1px;\n",
              "  margin: -1px;\n",
              "  overflow: hidden;\n",
              "  padding: 0;\n",
              "  position: absolute;\n",
              "  width: 1px;\n",
              "}\n",
              "\n",
              "#sk-container-id-8 div.sk-dashed-wrapped {\n",
              "  border: 1px dashed var(--sklearn-color-line);\n",
              "  margin: 0 0.4em 0.5em 0.4em;\n",
              "  box-sizing: border-box;\n",
              "  padding-bottom: 0.4em;\n",
              "  background-color: var(--sklearn-color-background);\n",
              "}\n",
              "\n",
              "#sk-container-id-8 div.sk-container {\n",
              "  /* jupyter's `normalize.less` sets `[hidden] { display: none; }`\n",
              "     but bootstrap.min.css set `[hidden] { display: none !important; }`\n",
              "     so we also need the `!important` here to be able to override the\n",
              "     default hidden behavior on the sphinx rendered scikit-learn.org.\n",
              "     See: https://github.com/scikit-learn/scikit-learn/issues/21755 */\n",
              "  display: inline-block !important;\n",
              "  position: relative;\n",
              "}\n",
              "\n",
              "#sk-container-id-8 div.sk-text-repr-fallback {\n",
              "  display: none;\n",
              "}\n",
              "\n",
              "div.sk-parallel-item,\n",
              "div.sk-serial,\n",
              "div.sk-item {\n",
              "  /* draw centered vertical line to link estimators */\n",
              "  background-image: linear-gradient(var(--sklearn-color-text-on-default-background), var(--sklearn-color-text-on-default-background));\n",
              "  background-size: 2px 100%;\n",
              "  background-repeat: no-repeat;\n",
              "  background-position: center center;\n",
              "}\n",
              "\n",
              "/* Parallel-specific style estimator block */\n",
              "\n",
              "#sk-container-id-8 div.sk-parallel-item::after {\n",
              "  content: \"\";\n",
              "  width: 100%;\n",
              "  border-bottom: 2px solid var(--sklearn-color-text-on-default-background);\n",
              "  flex-grow: 1;\n",
              "}\n",
              "\n",
              "#sk-container-id-8 div.sk-parallel {\n",
              "  display: flex;\n",
              "  align-items: stretch;\n",
              "  justify-content: center;\n",
              "  background-color: var(--sklearn-color-background);\n",
              "  position: relative;\n",
              "}\n",
              "\n",
              "#sk-container-id-8 div.sk-parallel-item {\n",
              "  display: flex;\n",
              "  flex-direction: column;\n",
              "}\n",
              "\n",
              "#sk-container-id-8 div.sk-parallel-item:first-child::after {\n",
              "  align-self: flex-end;\n",
              "  width: 50%;\n",
              "}\n",
              "\n",
              "#sk-container-id-8 div.sk-parallel-item:last-child::after {\n",
              "  align-self: flex-start;\n",
              "  width: 50%;\n",
              "}\n",
              "\n",
              "#sk-container-id-8 div.sk-parallel-item:only-child::after {\n",
              "  width: 0;\n",
              "}\n",
              "\n",
              "/* Serial-specific style estimator block */\n",
              "\n",
              "#sk-container-id-8 div.sk-serial {\n",
              "  display: flex;\n",
              "  flex-direction: column;\n",
              "  align-items: center;\n",
              "  background-color: var(--sklearn-color-background);\n",
              "  padding-right: 1em;\n",
              "  padding-left: 1em;\n",
              "}\n",
              "\n",
              "\n",
              "/* Toggleable style: style used for estimator/Pipeline/ColumnTransformer box that is\n",
              "clickable and can be expanded/collapsed.\n",
              "- Pipeline and ColumnTransformer use this feature and define the default style\n",
              "- Estimators will overwrite some part of the style using the `sk-estimator` class\n",
              "*/\n",
              "\n",
              "/* Pipeline and ColumnTransformer style (default) */\n",
              "\n",
              "#sk-container-id-8 div.sk-toggleable {\n",
              "  /* Default theme specific background. It is overwritten whether we have a\n",
              "  specific estimator or a Pipeline/ColumnTransformer */\n",
              "  background-color: var(--sklearn-color-background);\n",
              "}\n",
              "\n",
              "/* Toggleable label */\n",
              "#sk-container-id-8 label.sk-toggleable__label {\n",
              "  cursor: pointer;\n",
              "  display: block;\n",
              "  width: 100%;\n",
              "  margin-bottom: 0;\n",
              "  padding: 0.5em;\n",
              "  box-sizing: border-box;\n",
              "  text-align: center;\n",
              "}\n",
              "\n",
              "#sk-container-id-8 label.sk-toggleable__label-arrow:before {\n",
              "  /* Arrow on the left of the label */\n",
              "  content: \"▸\";\n",
              "  float: left;\n",
              "  margin-right: 0.25em;\n",
              "  color: var(--sklearn-color-icon);\n",
              "}\n",
              "\n",
              "#sk-container-id-8 label.sk-toggleable__label-arrow:hover:before {\n",
              "  color: var(--sklearn-color-text);\n",
              "}\n",
              "\n",
              "/* Toggleable content - dropdown */\n",
              "\n",
              "#sk-container-id-8 div.sk-toggleable__content {\n",
              "  max-height: 0;\n",
              "  max-width: 0;\n",
              "  overflow: hidden;\n",
              "  text-align: left;\n",
              "  /* unfitted */\n",
              "  background-color: var(--sklearn-color-unfitted-level-0);\n",
              "}\n",
              "\n",
              "#sk-container-id-8 div.sk-toggleable__content.fitted {\n",
              "  /* fitted */\n",
              "  background-color: var(--sklearn-color-fitted-level-0);\n",
              "}\n",
              "\n",
              "#sk-container-id-8 div.sk-toggleable__content pre {\n",
              "  margin: 0.2em;\n",
              "  border-radius: 0.25em;\n",
              "  color: var(--sklearn-color-text);\n",
              "  /* unfitted */\n",
              "  background-color: var(--sklearn-color-unfitted-level-0);\n",
              "}\n",
              "\n",
              "#sk-container-id-8 div.sk-toggleable__content.fitted pre {\n",
              "  /* unfitted */\n",
              "  background-color: var(--sklearn-color-fitted-level-0);\n",
              "}\n",
              "\n",
              "#sk-container-id-8 input.sk-toggleable__control:checked~div.sk-toggleable__content {\n",
              "  /* Expand drop-down */\n",
              "  max-height: 200px;\n",
              "  max-width: 100%;\n",
              "  overflow: auto;\n",
              "}\n",
              "\n",
              "#sk-container-id-8 input.sk-toggleable__control:checked~label.sk-toggleable__label-arrow:before {\n",
              "  content: \"▾\";\n",
              "}\n",
              "\n",
              "/* Pipeline/ColumnTransformer-specific style */\n",
              "\n",
              "#sk-container-id-8 div.sk-label input.sk-toggleable__control:checked~label.sk-toggleable__label {\n",
              "  color: var(--sklearn-color-text);\n",
              "  background-color: var(--sklearn-color-unfitted-level-2);\n",
              "}\n",
              "\n",
              "#sk-container-id-8 div.sk-label.fitted input.sk-toggleable__control:checked~label.sk-toggleable__label {\n",
              "  background-color: var(--sklearn-color-fitted-level-2);\n",
              "}\n",
              "\n",
              "/* Estimator-specific style */\n",
              "\n",
              "/* Colorize estimator box */\n",
              "#sk-container-id-8 div.sk-estimator input.sk-toggleable__control:checked~label.sk-toggleable__label {\n",
              "  /* unfitted */\n",
              "  background-color: var(--sklearn-color-unfitted-level-2);\n",
              "}\n",
              "\n",
              "#sk-container-id-8 div.sk-estimator.fitted input.sk-toggleable__control:checked~label.sk-toggleable__label {\n",
              "  /* fitted */\n",
              "  background-color: var(--sklearn-color-fitted-level-2);\n",
              "}\n",
              "\n",
              "#sk-container-id-8 div.sk-label label.sk-toggleable__label,\n",
              "#sk-container-id-8 div.sk-label label {\n",
              "  /* The background is the default theme color */\n",
              "  color: var(--sklearn-color-text-on-default-background);\n",
              "}\n",
              "\n",
              "/* On hover, darken the color of the background */\n",
              "#sk-container-id-8 div.sk-label:hover label.sk-toggleable__label {\n",
              "  color: var(--sklearn-color-text);\n",
              "  background-color: var(--sklearn-color-unfitted-level-2);\n",
              "}\n",
              "\n",
              "/* Label box, darken color on hover, fitted */\n",
              "#sk-container-id-8 div.sk-label.fitted:hover label.sk-toggleable__label.fitted {\n",
              "  color: var(--sklearn-color-text);\n",
              "  background-color: var(--sklearn-color-fitted-level-2);\n",
              "}\n",
              "\n",
              "/* Estimator label */\n",
              "\n",
              "#sk-container-id-8 div.sk-label label {\n",
              "  font-family: monospace;\n",
              "  font-weight: bold;\n",
              "  display: inline-block;\n",
              "  line-height: 1.2em;\n",
              "}\n",
              "\n",
              "#sk-container-id-8 div.sk-label-container {\n",
              "  text-align: center;\n",
              "}\n",
              "\n",
              "/* Estimator-specific */\n",
              "#sk-container-id-8 div.sk-estimator {\n",
              "  font-family: monospace;\n",
              "  border: 1px dotted var(--sklearn-color-border-box);\n",
              "  border-radius: 0.25em;\n",
              "  box-sizing: border-box;\n",
              "  margin-bottom: 0.5em;\n",
              "  /* unfitted */\n",
              "  background-color: var(--sklearn-color-unfitted-level-0);\n",
              "}\n",
              "\n",
              "#sk-container-id-8 div.sk-estimator.fitted {\n",
              "  /* fitted */\n",
              "  background-color: var(--sklearn-color-fitted-level-0);\n",
              "}\n",
              "\n",
              "/* on hover */\n",
              "#sk-container-id-8 div.sk-estimator:hover {\n",
              "  /* unfitted */\n",
              "  background-color: var(--sklearn-color-unfitted-level-2);\n",
              "}\n",
              "\n",
              "#sk-container-id-8 div.sk-estimator.fitted:hover {\n",
              "  /* fitted */\n",
              "  background-color: var(--sklearn-color-fitted-level-2);\n",
              "}\n",
              "\n",
              "/* Specification for estimator info (e.g. \"i\" and \"?\") */\n",
              "\n",
              "/* Common style for \"i\" and \"?\" */\n",
              "\n",
              ".sk-estimator-doc-link,\n",
              "a:link.sk-estimator-doc-link,\n",
              "a:visited.sk-estimator-doc-link {\n",
              "  float: right;\n",
              "  font-size: smaller;\n",
              "  line-height: 1em;\n",
              "  font-family: monospace;\n",
              "  background-color: var(--sklearn-color-background);\n",
              "  border-radius: 1em;\n",
              "  height: 1em;\n",
              "  width: 1em;\n",
              "  text-decoration: none !important;\n",
              "  margin-left: 1ex;\n",
              "  /* unfitted */\n",
              "  border: var(--sklearn-color-unfitted-level-1) 1pt solid;\n",
              "  color: var(--sklearn-color-unfitted-level-1);\n",
              "}\n",
              "\n",
              ".sk-estimator-doc-link.fitted,\n",
              "a:link.sk-estimator-doc-link.fitted,\n",
              "a:visited.sk-estimator-doc-link.fitted {\n",
              "  /* fitted */\n",
              "  border: var(--sklearn-color-fitted-level-1) 1pt solid;\n",
              "  color: var(--sklearn-color-fitted-level-1);\n",
              "}\n",
              "\n",
              "/* On hover */\n",
              "div.sk-estimator:hover .sk-estimator-doc-link:hover,\n",
              ".sk-estimator-doc-link:hover,\n",
              "div.sk-label-container:hover .sk-estimator-doc-link:hover,\n",
              ".sk-estimator-doc-link:hover {\n",
              "  /* unfitted */\n",
              "  background-color: var(--sklearn-color-unfitted-level-3);\n",
              "  color: var(--sklearn-color-background);\n",
              "  text-decoration: none;\n",
              "}\n",
              "\n",
              "div.sk-estimator.fitted:hover .sk-estimator-doc-link.fitted:hover,\n",
              ".sk-estimator-doc-link.fitted:hover,\n",
              "div.sk-label-container:hover .sk-estimator-doc-link.fitted:hover,\n",
              ".sk-estimator-doc-link.fitted:hover {\n",
              "  /* fitted */\n",
              "  background-color: var(--sklearn-color-fitted-level-3);\n",
              "  color: var(--sklearn-color-background);\n",
              "  text-decoration: none;\n",
              "}\n",
              "\n",
              "/* Span, style for the box shown on hovering the info icon */\n",
              ".sk-estimator-doc-link span {\n",
              "  display: none;\n",
              "  z-index: 9999;\n",
              "  position: relative;\n",
              "  font-weight: normal;\n",
              "  right: .2ex;\n",
              "  padding: .5ex;\n",
              "  margin: .5ex;\n",
              "  width: min-content;\n",
              "  min-width: 20ex;\n",
              "  max-width: 50ex;\n",
              "  color: var(--sklearn-color-text);\n",
              "  box-shadow: 2pt 2pt 4pt #999;\n",
              "  /* unfitted */\n",
              "  background: var(--sklearn-color-unfitted-level-0);\n",
              "  border: .5pt solid var(--sklearn-color-unfitted-level-3);\n",
              "}\n",
              "\n",
              ".sk-estimator-doc-link.fitted span {\n",
              "  /* fitted */\n",
              "  background: var(--sklearn-color-fitted-level-0);\n",
              "  border: var(--sklearn-color-fitted-level-3);\n",
              "}\n",
              "\n",
              ".sk-estimator-doc-link:hover span {\n",
              "  display: block;\n",
              "}\n",
              "\n",
              "/* \"?\"-specific style due to the `<a>` HTML tag */\n",
              "\n",
              "#sk-container-id-8 a.estimator_doc_link {\n",
              "  float: right;\n",
              "  font-size: 1rem;\n",
              "  line-height: 1em;\n",
              "  font-family: monospace;\n",
              "  background-color: var(--sklearn-color-background);\n",
              "  border-radius: 1rem;\n",
              "  height: 1rem;\n",
              "  width: 1rem;\n",
              "  text-decoration: none;\n",
              "  /* unfitted */\n",
              "  color: var(--sklearn-color-unfitted-level-1);\n",
              "  border: var(--sklearn-color-unfitted-level-1) 1pt solid;\n",
              "}\n",
              "\n",
              "#sk-container-id-8 a.estimator_doc_link.fitted {\n",
              "  /* fitted */\n",
              "  border: var(--sklearn-color-fitted-level-1) 1pt solid;\n",
              "  color: var(--sklearn-color-fitted-level-1);\n",
              "}\n",
              "\n",
              "/* On hover */\n",
              "#sk-container-id-8 a.estimator_doc_link:hover {\n",
              "  /* unfitted */\n",
              "  background-color: var(--sklearn-color-unfitted-level-3);\n",
              "  color: var(--sklearn-color-background);\n",
              "  text-decoration: none;\n",
              "}\n",
              "\n",
              "#sk-container-id-8 a.estimator_doc_link.fitted:hover {\n",
              "  /* fitted */\n",
              "  background-color: var(--sklearn-color-fitted-level-3);\n",
              "}\n",
              "</style><div id=\"sk-container-id-8\" class=\"sk-top-container\"><div class=\"sk-text-repr-fallback\"><pre>XGBClassifier(base_score=None, booster=None, callbacks=None,\n",
              "              colsample_bylevel=None, colsample_bynode=None,\n",
              "              colsample_bytree=None, device=None, early_stopping_rounds=None,\n",
              "              enable_categorical=False, eval_metric=&#x27;mlogloss&#x27;,\n",
              "              feature_types=None, gamma=None, grow_policy=None,\n",
              "              importance_type=None, interaction_constraints=None,\n",
              "              learning_rate=None, max_bin=None, max_cat_threshold=None,\n",
              "              max_cat_to_onehot=None, max_delta_step=None, max_depth=None,\n",
              "              max_leaves=None, min_child_weight=None, missing=nan,\n",
              "              monotone_constraints=None, multi_strategy=None, n_estimators=None,\n",
              "              n_jobs=None, num_parallel_tree=None, objective=&#x27;multi:softprob&#x27;, ...)</pre><b>In a Jupyter environment, please rerun this cell to show the HTML representation or trust the notebook. <br />On GitHub, the HTML representation is unable to render, please try loading this page with nbviewer.org.</b></div><div class=\"sk-container\" hidden><div class=\"sk-item\"><div class=\"sk-estimator fitted sk-toggleable\"><input class=\"sk-toggleable__control sk-hidden--visually\" id=\"sk-estimator-id-8\" type=\"checkbox\" checked><label for=\"sk-estimator-id-8\" class=\"sk-toggleable__label fitted sk-toggleable__label-arrow fitted\">&nbsp;XGBClassifier<span class=\"sk-estimator-doc-link fitted\">i<span>Fitted</span></span></label><div class=\"sk-toggleable__content fitted\"><pre>XGBClassifier(base_score=None, booster=None, callbacks=None,\n",
              "              colsample_bylevel=None, colsample_bynode=None,\n",
              "              colsample_bytree=None, device=None, early_stopping_rounds=None,\n",
              "              enable_categorical=False, eval_metric=&#x27;mlogloss&#x27;,\n",
              "              feature_types=None, gamma=None, grow_policy=None,\n",
              "              importance_type=None, interaction_constraints=None,\n",
              "              learning_rate=None, max_bin=None, max_cat_threshold=None,\n",
              "              max_cat_to_onehot=None, max_delta_step=None, max_depth=None,\n",
              "              max_leaves=None, min_child_weight=None, missing=nan,\n",
              "              monotone_constraints=None, multi_strategy=None, n_estimators=None,\n",
              "              n_jobs=None, num_parallel_tree=None, objective=&#x27;multi:softprob&#x27;, ...)</pre></div> </div></div></div></div>"
            ]
          },
          "metadata": {},
          "execution_count": 216
        }
      ],
      "source": [
        "# Create the XGBoost model\n",
        "model2 = xgb.XGBClassifier(use_label_encoder=False, eval_metric='mlogloss')\n",
        "\n",
        "# Fit the model\n",
        "model2.fit(X2_train, y2_train)"
      ]
    },
    {
      "cell_type": "code",
      "execution_count": 217,
      "metadata": {
        "id": "7dtHLM91QIa_"
      },
      "outputs": [],
      "source": [
        "y2_pred = model2.predict(X2_test)"
      ]
    },
    {
      "cell_type": "markdown",
      "metadata": {
        "id": "Ex6B07o3RINZ"
      },
      "source": [
        "**Calculating Accuracy**"
      ]
    },
    {
      "cell_type": "code",
      "execution_count": 218,
      "metadata": {
        "id": "V7Xeh3zVLPwz",
        "colab": {
          "base_uri": "https://localhost:8080/"
        },
        "outputId": "ff6a2619-335d-484c-db88-39fd1c2b4d0a"
      },
      "outputs": [
        {
          "output_type": "stream",
          "name": "stdout",
          "text": [
            "Accuracy: 0.33\n"
          ]
        }
      ],
      "source": [
        "# Calculate accuracy\n",
        "accuracy2 = accuracy_score(y2_test, y2_pred)\n",
        "print(f'Accuracy: {accuracy2:.2f}')"
      ]
    },
    {
      "cell_type": "markdown",
      "metadata": {
        "id": "2Ewo5pY5RO8L"
      },
      "source": [
        "**Calculating Confusion Matrix**"
      ]
    },
    {
      "cell_type": "code",
      "execution_count": 219,
      "metadata": {
        "id": "sZJE8qs8LWnS",
        "colab": {
          "base_uri": "https://localhost:8080/"
        },
        "outputId": "7881c1dd-0c6f-424c-fc74-525b3b76feac"
      },
      "outputs": [
        {
          "output_type": "stream",
          "name": "stdout",
          "text": [
            "\n",
            "Confusion Matrix:\n",
            "[[2559  128  721]\n",
            " [2482  130  732]\n",
            " [2375  127  746]]\n"
          ]
        }
      ],
      "source": [
        "# Confusion matrix\n",
        "conf_matrix2 = confusion_matrix(y2_test, y2_pred)\n",
        "print(f'\\nConfusion Matrix:\\n{conf_matrix}')"
      ]
    },
    {
      "cell_type": "markdown",
      "metadata": {
        "id": "_DDPkvKyRW5i"
      },
      "source": [
        "**Calculating Detaied Parameter**"
      ]
    },
    {
      "cell_type": "code",
      "execution_count": 220,
      "metadata": {
        "id": "XYoPsOf2La8L",
        "colab": {
          "base_uri": "https://localhost:8080/"
        },
        "outputId": "6a2c88ae-40bb-4d1b-be36-0e054c0902a7"
      },
      "outputs": [
        {
          "output_type": "stream",
          "name": "stdout",
          "text": [
            "\n",
            "Classification Report:\n",
            "               precision    recall  f1-score   support\n",
            "\n",
            "         0.0       0.34      0.35      0.34      3408\n",
            "         1.0       0.33      0.31      0.32      3344\n",
            "         2.0       0.33      0.35      0.34      3248\n",
            "\n",
            "    accuracy                           0.33     10000\n",
            "   macro avg       0.33      0.33      0.33     10000\n",
            "weighted avg       0.33      0.33      0.33     10000\n",
            "\n"
          ]
        }
      ],
      "source": [
        "# Classification report\n",
        "class_report2 = classification_report(y2_test, y2_pred)\n",
        "print('\\nClassification Report:\\n', class_report2)"
      ]
    },
    {
      "cell_type": "markdown",
      "metadata": {
        "id": "EsVPLJ-XRc4a"
      },
      "source": [
        "**Make Predictions**"
      ]
    },
    {
      "cell_type": "code",
      "execution_count": 221,
      "metadata": {
        "id": "s-5cF6LNLd5a",
        "colab": {
          "base_uri": "https://localhost:8080/"
        },
        "outputId": "ced8fe38-b68a-4537-82f9-8c56c9b15f67"
      },
      "outputs": [
        {
          "output_type": "stream",
          "name": "stdout",
          "text": [
            "Predictions: [0]\n"
          ]
        }
      ],
      "source": [
        "# Make predictions for a new sample\n",
        "predictions2 = model2.predict([[18.0, 3.0, 1.0, 1.0, 71.894448]])\n",
        "print(f'Predictions: {predictions2}')"
      ]
    },
    {
      "cell_type": "markdown",
      "metadata": {
        "id": "Jr0ivsxvRrSw"
      },
      "source": [
        "**Now, we could see that the accuracy by applying XGBoost also not improved.**"
      ]
    },
    {
      "cell_type": "markdown",
      "metadata": {
        "id": "LlOCc1Q76WqY"
      },
      "source": [
        "**Now, we have 2 choices, either create new discrete variables (classification) for model prediction or to target those continous variables (regression) and applying linear regression model.**"
      ]
    },
    {
      "cell_type": "code",
      "execution_count": 222,
      "metadata": {
        "id": "yNkLJFEeUMbV",
        "colab": {
          "base_uri": "https://localhost:8080/"
        },
        "outputId": "8e7e53c0-6692-4a08-fd27-9fe669d284f1"
      },
      "outputs": [
        {
          "output_type": "stream",
          "name": "stdout",
          "text": [
            "['Student Age', 'Student year', 'Father Degree', 'Mother Degree', 'Education Type', 'Subject_1', 'Subject_2', 'Subject_3', 'Subject_4', 'Subject_5', 'Subject_6', 'Subject_7', 'Subject_8', 'Subject_9', 'Subject_10', 'Mean Subject Score']\n"
          ]
        }
      ],
      "source": [
        "print(temporary_df.columns.tolist())"
      ]
    },
    {
      "cell_type": "code",
      "execution_count": 223,
      "metadata": {
        "id": "2Oq5PZo4TQgQ"
      },
      "outputs": [],
      "source": [
        "marks = temporary_df.drop(columns=['Student Age', 'Student year', 'Father Degree', 'Mother Degree', 'Education Type', 'Mean Subject Score'])"
      ]
    },
    {
      "cell_type": "code",
      "execution_count": 224,
      "metadata": {
        "id": "oMijiRSlUpif",
        "colab": {
          "base_uri": "https://localhost:8080/"
        },
        "outputId": "6e825b2c-fba6-4c5e-e0c0-f5c3ce6074cb"
      },
      "outputs": [
        {
          "output_type": "stream",
          "name": "stdout",
          "text": [
            "['Subject_1', 'Subject_2', 'Subject_3', 'Subject_4', 'Subject_5', 'Subject_6', 'Subject_7', 'Subject_8', 'Subject_9', 'Subject_10']\n"
          ]
        }
      ],
      "source": [
        "print(marks.columns.tolist())"
      ]
    },
    {
      "cell_type": "markdown",
      "metadata": {
        "id": "K7rlGJGCCL_p"
      },
      "source": [
        "# Applying Multiple Regression Algorithm"
      ]
    },
    {
      "cell_type": "code",
      "execution_count": 225,
      "metadata": {
        "id": "dpeyyaVsgiyO"
      },
      "outputs": [],
      "source": [
        "# import all necessary libraries\n",
        "from sklearn.metrics import mean_absolute_error, mean_squared_error, r2_score\n",
        "from sklearn.linear_model import LinearRegression"
      ]
    },
    {
      "cell_type": "markdown",
      "metadata": {
        "id": "Gz8W8xdA_VOd"
      },
      "source": [
        "**Set Input (X3) and Target (Y3) Variable**"
      ]
    },
    {
      "cell_type": "code",
      "execution_count": 226,
      "metadata": {
        "id": "lGgi6tMJ-3EU"
      },
      "outputs": [],
      "source": [
        "X3 = temporary_df[marks.columns.tolist()]\n",
        "y3 = temporary_df['Mean Subject Score']"
      ]
    },
    {
      "cell_type": "markdown",
      "metadata": {
        "id": "8q0ep4cI_hAC"
      },
      "source": [
        "**Split the variables**"
      ]
    },
    {
      "cell_type": "code",
      "execution_count": 227,
      "metadata": {
        "id": "mhrTt2tX-7Rn"
      },
      "outputs": [],
      "source": [
        "X3_train, X3_test, y3_train, y3_test = train_test_split(X3,\n",
        "                          y3, test_size=0.2, random_state=42)"
      ]
    },
    {
      "cell_type": "markdown",
      "metadata": {
        "id": "DwjXlUjg_onI"
      },
      "source": [
        "# Model  Implementation"
      ]
    },
    {
      "cell_type": "code",
      "execution_count": 228,
      "metadata": {
        "id": "6WKvd8AA_AIs",
        "colab": {
          "base_uri": "https://localhost:8080/",
          "height": 80
        },
        "outputId": "8f63db2c-3445-4b62-9866-f379ff5a0168"
      },
      "outputs": [
        {
          "output_type": "execute_result",
          "data": {
            "text/plain": [
              "LinearRegression()"
            ],
            "text/html": [
              "<style>#sk-container-id-9 {\n",
              "  /* Definition of color scheme common for light and dark mode */\n",
              "  --sklearn-color-text: black;\n",
              "  --sklearn-color-line: gray;\n",
              "  /* Definition of color scheme for unfitted estimators */\n",
              "  --sklearn-color-unfitted-level-0: #fff5e6;\n",
              "  --sklearn-color-unfitted-level-1: #f6e4d2;\n",
              "  --sklearn-color-unfitted-level-2: #ffe0b3;\n",
              "  --sklearn-color-unfitted-level-3: chocolate;\n",
              "  /* Definition of color scheme for fitted estimators */\n",
              "  --sklearn-color-fitted-level-0: #f0f8ff;\n",
              "  --sklearn-color-fitted-level-1: #d4ebff;\n",
              "  --sklearn-color-fitted-level-2: #b3dbfd;\n",
              "  --sklearn-color-fitted-level-3: cornflowerblue;\n",
              "\n",
              "  /* Specific color for light theme */\n",
              "  --sklearn-color-text-on-default-background: var(--sg-text-color, var(--theme-code-foreground, var(--jp-content-font-color1, black)));\n",
              "  --sklearn-color-background: var(--sg-background-color, var(--theme-background, var(--jp-layout-color0, white)));\n",
              "  --sklearn-color-border-box: var(--sg-text-color, var(--theme-code-foreground, var(--jp-content-font-color1, black)));\n",
              "  --sklearn-color-icon: #696969;\n",
              "\n",
              "  @media (prefers-color-scheme: dark) {\n",
              "    /* Redefinition of color scheme for dark theme */\n",
              "    --sklearn-color-text-on-default-background: var(--sg-text-color, var(--theme-code-foreground, var(--jp-content-font-color1, white)));\n",
              "    --sklearn-color-background: var(--sg-background-color, var(--theme-background, var(--jp-layout-color0, #111)));\n",
              "    --sklearn-color-border-box: var(--sg-text-color, var(--theme-code-foreground, var(--jp-content-font-color1, white)));\n",
              "    --sklearn-color-icon: #878787;\n",
              "  }\n",
              "}\n",
              "\n",
              "#sk-container-id-9 {\n",
              "  color: var(--sklearn-color-text);\n",
              "}\n",
              "\n",
              "#sk-container-id-9 pre {\n",
              "  padding: 0;\n",
              "}\n",
              "\n",
              "#sk-container-id-9 input.sk-hidden--visually {\n",
              "  border: 0;\n",
              "  clip: rect(1px 1px 1px 1px);\n",
              "  clip: rect(1px, 1px, 1px, 1px);\n",
              "  height: 1px;\n",
              "  margin: -1px;\n",
              "  overflow: hidden;\n",
              "  padding: 0;\n",
              "  position: absolute;\n",
              "  width: 1px;\n",
              "}\n",
              "\n",
              "#sk-container-id-9 div.sk-dashed-wrapped {\n",
              "  border: 1px dashed var(--sklearn-color-line);\n",
              "  margin: 0 0.4em 0.5em 0.4em;\n",
              "  box-sizing: border-box;\n",
              "  padding-bottom: 0.4em;\n",
              "  background-color: var(--sklearn-color-background);\n",
              "}\n",
              "\n",
              "#sk-container-id-9 div.sk-container {\n",
              "  /* jupyter's `normalize.less` sets `[hidden] { display: none; }`\n",
              "     but bootstrap.min.css set `[hidden] { display: none !important; }`\n",
              "     so we also need the `!important` here to be able to override the\n",
              "     default hidden behavior on the sphinx rendered scikit-learn.org.\n",
              "     See: https://github.com/scikit-learn/scikit-learn/issues/21755 */\n",
              "  display: inline-block !important;\n",
              "  position: relative;\n",
              "}\n",
              "\n",
              "#sk-container-id-9 div.sk-text-repr-fallback {\n",
              "  display: none;\n",
              "}\n",
              "\n",
              "div.sk-parallel-item,\n",
              "div.sk-serial,\n",
              "div.sk-item {\n",
              "  /* draw centered vertical line to link estimators */\n",
              "  background-image: linear-gradient(var(--sklearn-color-text-on-default-background), var(--sklearn-color-text-on-default-background));\n",
              "  background-size: 2px 100%;\n",
              "  background-repeat: no-repeat;\n",
              "  background-position: center center;\n",
              "}\n",
              "\n",
              "/* Parallel-specific style estimator block */\n",
              "\n",
              "#sk-container-id-9 div.sk-parallel-item::after {\n",
              "  content: \"\";\n",
              "  width: 100%;\n",
              "  border-bottom: 2px solid var(--sklearn-color-text-on-default-background);\n",
              "  flex-grow: 1;\n",
              "}\n",
              "\n",
              "#sk-container-id-9 div.sk-parallel {\n",
              "  display: flex;\n",
              "  align-items: stretch;\n",
              "  justify-content: center;\n",
              "  background-color: var(--sklearn-color-background);\n",
              "  position: relative;\n",
              "}\n",
              "\n",
              "#sk-container-id-9 div.sk-parallel-item {\n",
              "  display: flex;\n",
              "  flex-direction: column;\n",
              "}\n",
              "\n",
              "#sk-container-id-9 div.sk-parallel-item:first-child::after {\n",
              "  align-self: flex-end;\n",
              "  width: 50%;\n",
              "}\n",
              "\n",
              "#sk-container-id-9 div.sk-parallel-item:last-child::after {\n",
              "  align-self: flex-start;\n",
              "  width: 50%;\n",
              "}\n",
              "\n",
              "#sk-container-id-9 div.sk-parallel-item:only-child::after {\n",
              "  width: 0;\n",
              "}\n",
              "\n",
              "/* Serial-specific style estimator block */\n",
              "\n",
              "#sk-container-id-9 div.sk-serial {\n",
              "  display: flex;\n",
              "  flex-direction: column;\n",
              "  align-items: center;\n",
              "  background-color: var(--sklearn-color-background);\n",
              "  padding-right: 1em;\n",
              "  padding-left: 1em;\n",
              "}\n",
              "\n",
              "\n",
              "/* Toggleable style: style used for estimator/Pipeline/ColumnTransformer box that is\n",
              "clickable and can be expanded/collapsed.\n",
              "- Pipeline and ColumnTransformer use this feature and define the default style\n",
              "- Estimators will overwrite some part of the style using the `sk-estimator` class\n",
              "*/\n",
              "\n",
              "/* Pipeline and ColumnTransformer style (default) */\n",
              "\n",
              "#sk-container-id-9 div.sk-toggleable {\n",
              "  /* Default theme specific background. It is overwritten whether we have a\n",
              "  specific estimator or a Pipeline/ColumnTransformer */\n",
              "  background-color: var(--sklearn-color-background);\n",
              "}\n",
              "\n",
              "/* Toggleable label */\n",
              "#sk-container-id-9 label.sk-toggleable__label {\n",
              "  cursor: pointer;\n",
              "  display: block;\n",
              "  width: 100%;\n",
              "  margin-bottom: 0;\n",
              "  padding: 0.5em;\n",
              "  box-sizing: border-box;\n",
              "  text-align: center;\n",
              "}\n",
              "\n",
              "#sk-container-id-9 label.sk-toggleable__label-arrow:before {\n",
              "  /* Arrow on the left of the label */\n",
              "  content: \"▸\";\n",
              "  float: left;\n",
              "  margin-right: 0.25em;\n",
              "  color: var(--sklearn-color-icon);\n",
              "}\n",
              "\n",
              "#sk-container-id-9 label.sk-toggleable__label-arrow:hover:before {\n",
              "  color: var(--sklearn-color-text);\n",
              "}\n",
              "\n",
              "/* Toggleable content - dropdown */\n",
              "\n",
              "#sk-container-id-9 div.sk-toggleable__content {\n",
              "  max-height: 0;\n",
              "  max-width: 0;\n",
              "  overflow: hidden;\n",
              "  text-align: left;\n",
              "  /* unfitted */\n",
              "  background-color: var(--sklearn-color-unfitted-level-0);\n",
              "}\n",
              "\n",
              "#sk-container-id-9 div.sk-toggleable__content.fitted {\n",
              "  /* fitted */\n",
              "  background-color: var(--sklearn-color-fitted-level-0);\n",
              "}\n",
              "\n",
              "#sk-container-id-9 div.sk-toggleable__content pre {\n",
              "  margin: 0.2em;\n",
              "  border-radius: 0.25em;\n",
              "  color: var(--sklearn-color-text);\n",
              "  /* unfitted */\n",
              "  background-color: var(--sklearn-color-unfitted-level-0);\n",
              "}\n",
              "\n",
              "#sk-container-id-9 div.sk-toggleable__content.fitted pre {\n",
              "  /* unfitted */\n",
              "  background-color: var(--sklearn-color-fitted-level-0);\n",
              "}\n",
              "\n",
              "#sk-container-id-9 input.sk-toggleable__control:checked~div.sk-toggleable__content {\n",
              "  /* Expand drop-down */\n",
              "  max-height: 200px;\n",
              "  max-width: 100%;\n",
              "  overflow: auto;\n",
              "}\n",
              "\n",
              "#sk-container-id-9 input.sk-toggleable__control:checked~label.sk-toggleable__label-arrow:before {\n",
              "  content: \"▾\";\n",
              "}\n",
              "\n",
              "/* Pipeline/ColumnTransformer-specific style */\n",
              "\n",
              "#sk-container-id-9 div.sk-label input.sk-toggleable__control:checked~label.sk-toggleable__label {\n",
              "  color: var(--sklearn-color-text);\n",
              "  background-color: var(--sklearn-color-unfitted-level-2);\n",
              "}\n",
              "\n",
              "#sk-container-id-9 div.sk-label.fitted input.sk-toggleable__control:checked~label.sk-toggleable__label {\n",
              "  background-color: var(--sklearn-color-fitted-level-2);\n",
              "}\n",
              "\n",
              "/* Estimator-specific style */\n",
              "\n",
              "/* Colorize estimator box */\n",
              "#sk-container-id-9 div.sk-estimator input.sk-toggleable__control:checked~label.sk-toggleable__label {\n",
              "  /* unfitted */\n",
              "  background-color: var(--sklearn-color-unfitted-level-2);\n",
              "}\n",
              "\n",
              "#sk-container-id-9 div.sk-estimator.fitted input.sk-toggleable__control:checked~label.sk-toggleable__label {\n",
              "  /* fitted */\n",
              "  background-color: var(--sklearn-color-fitted-level-2);\n",
              "}\n",
              "\n",
              "#sk-container-id-9 div.sk-label label.sk-toggleable__label,\n",
              "#sk-container-id-9 div.sk-label label {\n",
              "  /* The background is the default theme color */\n",
              "  color: var(--sklearn-color-text-on-default-background);\n",
              "}\n",
              "\n",
              "/* On hover, darken the color of the background */\n",
              "#sk-container-id-9 div.sk-label:hover label.sk-toggleable__label {\n",
              "  color: var(--sklearn-color-text);\n",
              "  background-color: var(--sklearn-color-unfitted-level-2);\n",
              "}\n",
              "\n",
              "/* Label box, darken color on hover, fitted */\n",
              "#sk-container-id-9 div.sk-label.fitted:hover label.sk-toggleable__label.fitted {\n",
              "  color: var(--sklearn-color-text);\n",
              "  background-color: var(--sklearn-color-fitted-level-2);\n",
              "}\n",
              "\n",
              "/* Estimator label */\n",
              "\n",
              "#sk-container-id-9 div.sk-label label {\n",
              "  font-family: monospace;\n",
              "  font-weight: bold;\n",
              "  display: inline-block;\n",
              "  line-height: 1.2em;\n",
              "}\n",
              "\n",
              "#sk-container-id-9 div.sk-label-container {\n",
              "  text-align: center;\n",
              "}\n",
              "\n",
              "/* Estimator-specific */\n",
              "#sk-container-id-9 div.sk-estimator {\n",
              "  font-family: monospace;\n",
              "  border: 1px dotted var(--sklearn-color-border-box);\n",
              "  border-radius: 0.25em;\n",
              "  box-sizing: border-box;\n",
              "  margin-bottom: 0.5em;\n",
              "  /* unfitted */\n",
              "  background-color: var(--sklearn-color-unfitted-level-0);\n",
              "}\n",
              "\n",
              "#sk-container-id-9 div.sk-estimator.fitted {\n",
              "  /* fitted */\n",
              "  background-color: var(--sklearn-color-fitted-level-0);\n",
              "}\n",
              "\n",
              "/* on hover */\n",
              "#sk-container-id-9 div.sk-estimator:hover {\n",
              "  /* unfitted */\n",
              "  background-color: var(--sklearn-color-unfitted-level-2);\n",
              "}\n",
              "\n",
              "#sk-container-id-9 div.sk-estimator.fitted:hover {\n",
              "  /* fitted */\n",
              "  background-color: var(--sklearn-color-fitted-level-2);\n",
              "}\n",
              "\n",
              "/* Specification for estimator info (e.g. \"i\" and \"?\") */\n",
              "\n",
              "/* Common style for \"i\" and \"?\" */\n",
              "\n",
              ".sk-estimator-doc-link,\n",
              "a:link.sk-estimator-doc-link,\n",
              "a:visited.sk-estimator-doc-link {\n",
              "  float: right;\n",
              "  font-size: smaller;\n",
              "  line-height: 1em;\n",
              "  font-family: monospace;\n",
              "  background-color: var(--sklearn-color-background);\n",
              "  border-radius: 1em;\n",
              "  height: 1em;\n",
              "  width: 1em;\n",
              "  text-decoration: none !important;\n",
              "  margin-left: 1ex;\n",
              "  /* unfitted */\n",
              "  border: var(--sklearn-color-unfitted-level-1) 1pt solid;\n",
              "  color: var(--sklearn-color-unfitted-level-1);\n",
              "}\n",
              "\n",
              ".sk-estimator-doc-link.fitted,\n",
              "a:link.sk-estimator-doc-link.fitted,\n",
              "a:visited.sk-estimator-doc-link.fitted {\n",
              "  /* fitted */\n",
              "  border: var(--sklearn-color-fitted-level-1) 1pt solid;\n",
              "  color: var(--sklearn-color-fitted-level-1);\n",
              "}\n",
              "\n",
              "/* On hover */\n",
              "div.sk-estimator:hover .sk-estimator-doc-link:hover,\n",
              ".sk-estimator-doc-link:hover,\n",
              "div.sk-label-container:hover .sk-estimator-doc-link:hover,\n",
              ".sk-estimator-doc-link:hover {\n",
              "  /* unfitted */\n",
              "  background-color: var(--sklearn-color-unfitted-level-3);\n",
              "  color: var(--sklearn-color-background);\n",
              "  text-decoration: none;\n",
              "}\n",
              "\n",
              "div.sk-estimator.fitted:hover .sk-estimator-doc-link.fitted:hover,\n",
              ".sk-estimator-doc-link.fitted:hover,\n",
              "div.sk-label-container:hover .sk-estimator-doc-link.fitted:hover,\n",
              ".sk-estimator-doc-link.fitted:hover {\n",
              "  /* fitted */\n",
              "  background-color: var(--sklearn-color-fitted-level-3);\n",
              "  color: var(--sklearn-color-background);\n",
              "  text-decoration: none;\n",
              "}\n",
              "\n",
              "/* Span, style for the box shown on hovering the info icon */\n",
              ".sk-estimator-doc-link span {\n",
              "  display: none;\n",
              "  z-index: 9999;\n",
              "  position: relative;\n",
              "  font-weight: normal;\n",
              "  right: .2ex;\n",
              "  padding: .5ex;\n",
              "  margin: .5ex;\n",
              "  width: min-content;\n",
              "  min-width: 20ex;\n",
              "  max-width: 50ex;\n",
              "  color: var(--sklearn-color-text);\n",
              "  box-shadow: 2pt 2pt 4pt #999;\n",
              "  /* unfitted */\n",
              "  background: var(--sklearn-color-unfitted-level-0);\n",
              "  border: .5pt solid var(--sklearn-color-unfitted-level-3);\n",
              "}\n",
              "\n",
              ".sk-estimator-doc-link.fitted span {\n",
              "  /* fitted */\n",
              "  background: var(--sklearn-color-fitted-level-0);\n",
              "  border: var(--sklearn-color-fitted-level-3);\n",
              "}\n",
              "\n",
              ".sk-estimator-doc-link:hover span {\n",
              "  display: block;\n",
              "}\n",
              "\n",
              "/* \"?\"-specific style due to the `<a>` HTML tag */\n",
              "\n",
              "#sk-container-id-9 a.estimator_doc_link {\n",
              "  float: right;\n",
              "  font-size: 1rem;\n",
              "  line-height: 1em;\n",
              "  font-family: monospace;\n",
              "  background-color: var(--sklearn-color-background);\n",
              "  border-radius: 1rem;\n",
              "  height: 1rem;\n",
              "  width: 1rem;\n",
              "  text-decoration: none;\n",
              "  /* unfitted */\n",
              "  color: var(--sklearn-color-unfitted-level-1);\n",
              "  border: var(--sklearn-color-unfitted-level-1) 1pt solid;\n",
              "}\n",
              "\n",
              "#sk-container-id-9 a.estimator_doc_link.fitted {\n",
              "  /* fitted */\n",
              "  border: var(--sklearn-color-fitted-level-1) 1pt solid;\n",
              "  color: var(--sklearn-color-fitted-level-1);\n",
              "}\n",
              "\n",
              "/* On hover */\n",
              "#sk-container-id-9 a.estimator_doc_link:hover {\n",
              "  /* unfitted */\n",
              "  background-color: var(--sklearn-color-unfitted-level-3);\n",
              "  color: var(--sklearn-color-background);\n",
              "  text-decoration: none;\n",
              "}\n",
              "\n",
              "#sk-container-id-9 a.estimator_doc_link.fitted:hover {\n",
              "  /* fitted */\n",
              "  background-color: var(--sklearn-color-fitted-level-3);\n",
              "}\n",
              "</style><div id=\"sk-container-id-9\" class=\"sk-top-container\"><div class=\"sk-text-repr-fallback\"><pre>LinearRegression()</pre><b>In a Jupyter environment, please rerun this cell to show the HTML representation or trust the notebook. <br />On GitHub, the HTML representation is unable to render, please try loading this page with nbviewer.org.</b></div><div class=\"sk-container\" hidden><div class=\"sk-item\"><div class=\"sk-estimator fitted sk-toggleable\"><input class=\"sk-toggleable__control sk-hidden--visually\" id=\"sk-estimator-id-9\" type=\"checkbox\" checked><label for=\"sk-estimator-id-9\" class=\"sk-toggleable__label fitted sk-toggleable__label-arrow fitted\">&nbsp;&nbsp;LinearRegression<a class=\"sk-estimator-doc-link fitted\" rel=\"noreferrer\" target=\"_blank\" href=\"https://scikit-learn.org/1.5/modules/generated/sklearn.linear_model.LinearRegression.html\">?<span>Documentation for LinearRegression</span></a><span class=\"sk-estimator-doc-link fitted\">i<span>Fitted</span></span></label><div class=\"sk-toggleable__content fitted\"><pre>LinearRegression()</pre></div> </div></div></div></div>"
            ]
          },
          "metadata": {},
          "execution_count": 228
        }
      ],
      "source": [
        "# Create the model\n",
        "model3 = LinearRegression()\n",
        "\n",
        "# Fit the model\n",
        "model3.fit(X3_train, y3_train)"
      ]
    },
    {
      "cell_type": "markdown",
      "source": [
        "# Predict Value by giving values for the Input Variables"
      ],
      "metadata": {
        "id": "jpCnR9Q6GzCU"
      }
    },
    {
      "cell_type": "code",
      "source": [
        "print(model3.predict([[72.236740,85.931149,65.698513,84.163844,78.179414,50.578209,70.071681,80.294509,72.709741,59.080678]]))"
      ],
      "metadata": {
        "colab": {
          "base_uri": "https://localhost:8080/"
        },
        "id": "Qr1yerpLF9AF",
        "outputId": "b02f4e0d-a0e7-465c-92c1-d51b89a23635"
      },
      "execution_count": 229,
      "outputs": [
        {
          "output_type": "stream",
          "name": "stdout",
          "text": [
            "[71.8944478]\n"
          ]
        },
        {
          "output_type": "stream",
          "name": "stderr",
          "text": [
            "/usr/local/lib/python3.10/dist-packages/sklearn/base.py:493: UserWarning: X does not have valid feature names, but LinearRegression was fitted with feature names\n",
            "  warnings.warn(\n"
          ]
        }
      ]
    },
    {
      "cell_type": "markdown",
      "metadata": {
        "id": "FkooPUSe_tqf"
      },
      "source": [
        "**Make Predictions**"
      ]
    },
    {
      "cell_type": "code",
      "execution_count": 230,
      "metadata": {
        "id": "Fv3_tV8d_Fin"
      },
      "outputs": [],
      "source": [
        "# Make predictions\n",
        "y3_pred = model3.predict(X3_test)\n",
        "mae = mean_absolute_error(y3_test, y3_pred)\n",
        "mse = mean_squared_error(y3_test, y3_pred)\n",
        "r2 = r2_score(y3_test, y3_pred)"
      ]
    },
    {
      "cell_type": "markdown",
      "metadata": {
        "id": "c45NuNKv_yXA"
      },
      "source": [
        "**Print Predictions**"
      ]
    },
    {
      "cell_type": "code",
      "execution_count": 231,
      "metadata": {
        "id": "z6BYIpq8_M67",
        "colab": {
          "base_uri": "https://localhost:8080/"
        },
        "outputId": "ba7a0187-4c79-4775-c3d7-f65ae3d3e6c4"
      },
      "outputs": [
        {
          "output_type": "stream",
          "name": "stdout",
          "text": [
            "Mean Absolute Error: 0.00\n",
            "Mean Squared Error: 0.00\n",
            "Accuracy Score (R-squared): 1.00\n"
          ]
        }
      ],
      "source": [
        "# Print metrics\n",
        "print(f'Mean Absolute Error: {mae:.2f}')\n",
        "print(f'Mean Squared Error: {mse:.2f}')\n",
        "print(f'Accuracy Score (R-squared): {r2:.2f}')"
      ]
    },
    {
      "cell_type": "markdown",
      "metadata": {
        "id": "6TCr0O3T_72F"
      },
      "source": [
        "**The Linear Regression model achieve accurate prediction score. Hence, it proves that this particular dataset cannot work on classification Algorithms.**\n",
        "\n",
        "**There are two ways to resolve this issue, either create new descrete variables with the existing variables or use regression algorithms for continous variables.**\n",
        "\n",
        "**Note: The model achieves 100% accuray on my created target variable. It is only for check that the data is working good on the regression problems as the target variable is the mean calculation of input variables, that is the reason the model achieved 100% accuracy.**"
      ]
    }
  ],
  "metadata": {
    "colab": {
      "provenance": []
    },
    "kernelspec": {
      "display_name": "Python 3",
      "name": "python3"
    },
    "language_info": {
      "name": "python"
    }
  },
  "nbformat": 4,
  "nbformat_minor": 0
}
